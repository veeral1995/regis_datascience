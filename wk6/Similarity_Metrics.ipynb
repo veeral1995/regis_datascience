{
 "cells": [
  {
   "cell_type": "code",
   "execution_count": 1,
   "metadata": {},
   "outputs": [
    {
     "data": {
      "text/html": [
       "<style>.container { width:95% !important; }</style>"
      ],
      "text/plain": [
       "<IPython.core.display.HTML object>"
      ]
     },
     "metadata": {},
     "output_type": "display_data"
    }
   ],
   "source": [
    "# This handy piece of code changes Jupyter Notebooks margins to fit your screen.\n",
    "from IPython.core.display import display, HTML\n",
    "display(HTML(\"<style>.container { width:95% !important; }</style>\"))"
   ]
  },
  {
   "cell_type": "markdown",
   "metadata": {},
   "source": [
    "# This is a tutorial on euclidian distance, cosine similarity, and pearson correlation on a simple movie recommender system.  \n",
    "##### This tutorial was adapted from these sites https://cmry.github.io/notes/euclidean-v-cosine and http://guidetodatamining.com/assets/guideChapters/DataMining-ch2.pdf"
   ]
  },
  {
   "cell_type": "code",
   "execution_count": 2,
   "metadata": {},
   "outputs": [],
   "source": [
    "# Import the necessary libraries\n",
    "import numpy as np\n",
    "import pandas as pd\n",
    "import matplotlib.pyplot as plt"
   ]
  },
  {
   "cell_type": "code",
   "execution_count": 3,
   "metadata": {},
   "outputs": [],
   "source": [
    "# Create an array with movie ratings\n",
    "x = np.array([[4, 2],\n",
    "              [1, 4],\n",
    "             [1, 3]])"
   ]
  },
  {
   "cell_type": "code",
   "execution_count": 4,
   "metadata": {},
   "outputs": [
    {
     "data": {
      "text/html": [
       "<div>\n",
       "<style scoped>\n",
       "    .dataframe tbody tr th:only-of-type {\n",
       "        vertical-align: middle;\n",
       "    }\n",
       "\n",
       "    .dataframe tbody tr th {\n",
       "        vertical-align: top;\n",
       "    }\n",
       "\n",
       "    .dataframe thead th {\n",
       "        text-align: right;\n",
       "    }\n",
       "</style>\n",
       "<table border=\"1\" class=\"dataframe\">\n",
       "  <thead>\n",
       "    <tr style=\"text-align: right;\">\n",
       "      <th></th>\n",
       "      <th>Action</th>\n",
       "      <th>Comedy</th>\n",
       "    </tr>\n",
       "  </thead>\n",
       "  <tbody>\n",
       "    <tr>\n",
       "      <th>Amy</th>\n",
       "      <td>4</td>\n",
       "      <td>2</td>\n",
       "    </tr>\n",
       "    <tr>\n",
       "      <th>Bill</th>\n",
       "      <td>1</td>\n",
       "      <td>4</td>\n",
       "    </tr>\n",
       "    <tr>\n",
       "      <th>Clark</th>\n",
       "      <td>1</td>\n",
       "      <td>3</td>\n",
       "    </tr>\n",
       "  </tbody>\n",
       "</table>\n",
       "</div>"
      ],
      "text/plain": [
       "       Action  Comedy\n",
       "Amy         4       2\n",
       "Bill        1       4\n",
       "Clark       1       3"
      ]
     },
     "execution_count": 4,
     "metadata": {},
     "output_type": "execute_result"
    }
   ],
   "source": [
    "# Convert the array to a data frame and label the columns and rows\n",
    "df = pd.DataFrame(x, columns = ['Action', 'Comedy'], index = ['Amy', 'Bill', 'Clark'])\n",
    "df"
   ]
  },
  {
   "cell_type": "markdown",
   "metadata": {},
   "source": [
    "### Above is a data frame that has the movie genere rating for Amy, Bill, and Clark. Is Clark's movie genere preference more similar to Amy's or Bill's?  If we were to recommend a new movie genere to Clark would we recommend a genere that Amy rates highly or one that Bill rates highly?"
   ]
  },
  {
   "cell_type": "code",
   "execution_count": 5,
   "metadata": {},
   "outputs": [
    {
     "data": {
      "image/png": "[encoded data removed]",
      "text/plain": [
       "<Figure size 432x288 with 1 Axes>"
      ]
     },
     "metadata": {
      "needs_background": "light"
     },
     "output_type": "display_data"
    }
   ],
   "source": [
    "# Plot the data\n",
    "plt.scatter(df.loc['Amy','Action'], df.loc['Amy','Comedy'], color = 'Red', label = 'Amy')\n",
    "plt.scatter(df.loc['Bill','Action'], df.loc['Bill','Comedy'], color = 'Blue', label = 'Bill')\n",
    "plt.scatter(df.loc['Clark','Action'], df.loc['Clark','Comedy'], color = 'Green', label = 'Clark')\n",
    "plt.legend()\n",
    "plt.title(\"Amy, Bill, and Clark's Movie Genere Rating\")\n",
    "plt.xlabel('Action')\n",
    "plt.ylabel('Comedy')\n",
    "plt.xlim(0,6)\n",
    "plt.ylim(0,6)\n",
    "plt.show()"
   ]
  },
  {
   "cell_type": "markdown",
   "metadata": {},
   "source": [
    "#### In this simple system we can visually see that Clark movie genere preference is more closely related to Bill's than Amy's but we will calculate the Euclidian distance and cosine similarity values to be sure."
   ]
  },
  {
   "cell_type": "code",
   "execution_count": 6,
   "metadata": {},
   "outputs": [],
   "source": [
    "# Define a function to calculate the Euclidian distance\n",
    "def euclidian_distance(x,y):\n",
    "    return np.sqrt(np.sum((x-y)**2))"
   ]
  },
  {
   "cell_type": "code",
   "execution_count": 7,
   "metadata": {},
   "outputs": [
    {
     "name": "stdout",
     "output_type": "stream",
     "text": [
      "Distance between Amy and Clark: 3.1622776601683795 \n",
      " Distance bewteen Bill and Clark: 1.0\n"
     ]
    }
   ],
   "source": [
    "# Calculate the Euclidian distance between Amy and Clarke and Bill and Clark\n",
    "print(\"Distance between Amy and Clark:\", euclidian_distance(df.loc['Amy'], df.loc['Clark']), \"\\n\",\n",
    "      \"Distance bewteen Bill and Clark:\",euclidian_distance(df.loc['Bill'], df.loc['Clark']))"
   ]
  },
  {
   "cell_type": "code",
   "execution_count": 8,
   "metadata": {},
   "outputs": [],
   "source": [
    "# Define a function to calculate the cosine simularity\n",
    "def cosine_similarity(x,y):\n",
    "    return np.dot(x,y)/(np.sqrt(np.dot(x,x))* np.sqrt(np.dot(y,y)))"
   ]
  },
  {
   "cell_type": "code",
   "execution_count": 9,
   "metadata": {},
   "outputs": [
    {
     "name": "stdout",
     "output_type": "stream",
     "text": [
      "Cosine between Amy and Clark: 0.7071067811865475 \n",
      " Cosine between Bill and Clark: 0.9970544855015815\n"
     ]
    }
   ],
   "source": [
    "# Calculate the cosine simularity distance between Amy and Clarke and Bill and Clark\n",
    "print(\"Cosine between Amy and Clark:\", cosine_similarity(df.loc['Amy'], df.loc['Clark']), \"\\n\",\n",
    "      \"Cosine between Bill and Clark:\",cosine_similarity(df.loc['Bill'], df.loc['Clark']))"
   ]
  },
  {
   "cell_type": "markdown",
   "metadata": {},
   "source": [
    "#### The Euclidian distance between Clark and Bill is smaller than the distance between Clark and Amy.  And the cosine similarity between Bill and Clark is closer to 1 than it is for Amy and Clark.  Therefore, we can conclude that Clark and Bill have a more silimlar taste in movie generes and we would recommend movie generes that Bill rates highly to Clark."
   ]
  },
  {
   "cell_type": "markdown",
   "metadata": {},
   "source": [
    "## Let's include more dimentions to the matrix (more movie generes) and build another recommender for Clark"
   ]
  },
  {
   "cell_type": "code",
   "execution_count": 10,
   "metadata": {},
   "outputs": [
    {
     "data": {
      "text/html": [
       "<div>\n",
       "<style scoped>\n",
       "    .dataframe tbody tr th:only-of-type {\n",
       "        vertical-align: middle;\n",
       "    }\n",
       "\n",
       "    .dataframe tbody tr th {\n",
       "        vertical-align: top;\n",
       "    }\n",
       "\n",
       "    .dataframe thead th {\n",
       "        text-align: right;\n",
       "    }\n",
       "</style>\n",
       "<table border=\"1\" class=\"dataframe\">\n",
       "  <thead>\n",
       "    <tr style=\"text-align: right;\">\n",
       "      <th></th>\n",
       "      <th>Action</th>\n",
       "      <th>Comedy</th>\n",
       "      <th>Romance</th>\n",
       "      <th>Sci-Fi</th>\n",
       "      <th>Drama</th>\n",
       "    </tr>\n",
       "  </thead>\n",
       "  <tbody>\n",
       "    <tr>\n",
       "      <th>Amy</th>\n",
       "      <td>4</td>\n",
       "      <td>2</td>\n",
       "      <td>5</td>\n",
       "      <td>4</td>\n",
       "      <td>3</td>\n",
       "    </tr>\n",
       "    <tr>\n",
       "      <th>Bill</th>\n",
       "      <td>1</td>\n",
       "      <td>4</td>\n",
       "      <td>3</td>\n",
       "      <td>5</td>\n",
       "      <td>2</td>\n",
       "    </tr>\n",
       "    <tr>\n",
       "      <th>Clark</th>\n",
       "      <td>1</td>\n",
       "      <td>3</td>\n",
       "      <td>2</td>\n",
       "      <td>3</td>\n",
       "      <td>1</td>\n",
       "    </tr>\n",
       "  </tbody>\n",
       "</table>\n",
       "</div>"
      ],
      "text/plain": [
       "       Action  Comedy  Romance  Sci-Fi  Drama\n",
       "Amy         4       2        5       4      3\n",
       "Bill        1       4        3       5      2\n",
       "Clark       1       3        2       3      1"
      ]
     },
     "execution_count": 10,
     "metadata": {},
     "output_type": "execute_result"
    }
   ],
   "source": [
    "# Create a larger movie matrix data frame with more dimentions (movie generes)\n",
    "b = np.array([[4, 2, 5, 4, 3],\n",
    "              [1, 4, 3, 5, 2],\n",
    "             [1, 3, 2, 3, 1]])\n",
    "dfb = pd.DataFrame(b, columns = ['Action', 'Comedy', 'Romance', 'Sci-Fi', 'Drama'], index = ['Amy', 'Bill', 'Clark'])\n",
    "dfb"
   ]
  },
  {
   "cell_type": "markdown",
   "metadata": {},
   "source": [
    "#### Now we have added more dimentions (movie generes) is Clark's movie preference still more similar to Bill's than Amy's?  Even though we have more dimentions to our data, the Euclidian distance and cosine similarity calculations are the same."
   ]
  },
  {
   "cell_type": "code",
   "execution_count": 11,
   "metadata": {},
   "outputs": [
    {
     "name": "stdout",
     "output_type": "stream",
     "text": [
      "Distance between Amy and Clark: 4.898979485566356 \n",
      " Distance bewteen Bill to Clark: 2.6457513110645907\n"
     ]
    }
   ],
   "source": [
    "# Calculate the Euclidian distance between Amy and Clarke and Bill and Clark with more dimentional data\n",
    "print(\"Distance between Amy and Clark:\", euclidian_distance(dfb.loc['Amy'], dfb.loc['Clark']), \"\\n\",\n",
    "      \"Distance bewteen Bill to Clark:\",euclidian_distance(dfb.loc['Bill'], dfb.loc['Clark']))"
   ]
  },
  {
   "cell_type": "code",
   "execution_count": 12,
   "metadata": {},
   "outputs": [
    {
     "name": "stdout",
     "output_type": "stream",
     "text": [
      "Cosine between Amy and Clark: 0.8539125638299666 \n",
      " Cosine between Bill and Clark: 0.9908673886137246\n"
     ]
    }
   ],
   "source": [
    "# Calculate the cosine simularity distance between Amy and Clarke and Bill and Clark with more dimentional data\n",
    "print(\"Cosine between Amy and Clark:\", cosine_similarity(dfb.loc['Amy'], dfb.loc['Clark']), \"\\n\",\n",
    "      \"Cosine between Bill and Clark:\",cosine_similarity(dfb.loc['Bill'], dfb.loc['Clark']))"
   ]
  },
  {
   "cell_type": "markdown",
   "metadata": {},
   "source": [
    "#### The Euclidian distance and cosine similartiy still agree that Clark's genere preference is closer to Bill's than Amy's"
   ]
  },
  {
   "cell_type": "markdown",
   "metadata": {},
   "source": [
    "### Let's plot Amy's and Clark's genere rating and Bill's and Clark's genere rating and calculate a Pearson's coefficient between them."
   ]
  },
  {
   "cell_type": "code",
   "execution_count": 13,
   "metadata": {},
   "outputs": [
    {
     "data": {
      "image/png": "[encoded data removed]",
      "text/plain": [
       "<Figure size 432x288 with 1 Axes>"
      ]
     },
     "metadata": {
      "needs_background": "light"
     },
     "output_type": "display_data"
    }
   ],
   "source": [
    "# Plot Amy's genere rating vs Clark's genere rating \n",
    "plt.scatter(dfb.loc['Clark','Action'],dfb.loc['Amy','Action'], color = 'Red', label = 'Action')\n",
    "plt.scatter(dfb.loc['Clark','Comedy'],dfb.loc['Amy','Comedy'], color = 'Blue', label = 'Comedy')\n",
    "plt.scatter(dfb.loc['Clark','Romance'],dfb.loc['Amy','Romance'], color = 'Green', label = 'Romance')\n",
    "plt.scatter(dfb.loc['Clark','Sci-Fi'],dfb.loc['Amy','Sci-Fi'], color = 'Black', label = 'Sci-Fi')\n",
    "plt.scatter(dfb.loc['Clark','Drama'],dfb.loc['Amy','Drama'], color = 'Orange', label = 'Drama')\n",
    "plt.legend()\n",
    "plt.title(\"Correlation between Amy's and Clark's Movie Genere Preference\")\n",
    "plt.xlabel(\"Clark's Movie Genere Rating\")\n",
    "plt.ylabel(\"Amy's Movie Genere Rating\")\n",
    "plt.xlim(0,6)\n",
    "plt.ylim(0,6)\n",
    "plt.show()"
   ]
  },
  {
   "cell_type": "code",
   "execution_count": 14,
   "metadata": {},
   "outputs": [
    {
     "data": {
      "image/png": "[encoded data removed]",
      "text/plain": [
       "<Figure size 432x288 with 1 Axes>"
      ]
     },
     "metadata": {
      "needs_background": "light"
     },
     "output_type": "display_data"
    }
   ],
   "source": [
    "# Plot Bill's genere rating vs Clark's genere rating \n",
    "plt.scatter(dfb.loc['Clark','Action'],dfb.loc['Bill','Action'], color = 'Red', label = 'Action')\n",
    "plt.scatter(dfb.loc['Clark','Comedy'],dfb.loc['Bill','Comedy'], color = 'Blue', label = 'Comedy')\n",
    "plt.scatter(dfb.loc['Clark','Romance'],dfb.loc['Bill','Romance'], color = 'Green', label = 'Romance')\n",
    "plt.scatter(dfb.loc['Clark','Sci-Fi'],dfb.loc['Bill','Sci-Fi'], color = 'Black', label = 'Sci-Fi')\n",
    "plt.scatter(dfb.loc['Clark','Drama'],dfb.loc['Bill','Drama'], color = 'Orange', label = 'Drama')\n",
    "plt.legend()\n",
    "plt.title(\"Correlation between Bill's and Clark's Movie Genere Preference\")\n",
    "plt.xlabel(\"Clark's Movie Genere Rating\")\n",
    "plt.ylabel(\"Bill's Movie Genere Rating\")\n",
    "plt.xlim(0,6)\n",
    "plt.ylim(0,6)\n",
    "plt.show()"
   ]
  },
  {
   "cell_type": "code",
   "execution_count": 15,
   "metadata": {},
   "outputs": [],
   "source": [
    "# Import the pearsonr funtion from the scipy.stats.stats library\n",
    "from scipy.stats.stats import pearsonr "
   ]
  },
  {
   "cell_type": "code",
   "execution_count": 16,
   "metadata": {},
   "outputs": [
    {
     "name": "stdout",
     "output_type": "stream",
     "text": [
      "Pearson's Coefficient between Amy and Clark: (-0.21926450482675727, 0.7230771665710751) \n",
      " Pearson's Coefficient between Bill and Clark: (0.9486832980505138, 0.013846832988859062)\n"
     ]
    }
   ],
   "source": [
    "# Calulate the Pearson coefficent between each user and Clark\n",
    "print(\"Pearson's Coefficient between Amy and Clark:\", pearsonr(dfb.loc['Amy'], dfb.loc['Clark']), \"\\n\",\n",
    "      \"Pearson's Coefficient between Bill and Clark:\", pearsonr(dfb.loc['Bill'], dfb.loc['Clark']))"
   ]
  },
  {
   "cell_type": "markdown",
   "metadata": {},
   "source": [
    "### Person's coefficient agrees that Clark's genere preference is more similar to Bill's than Amy's and therefore we would use Bill's movie ratings to help inform and recommend movies to Clark"
   ]
  },
  {
   "cell_type": "markdown",
   "metadata": {},
   "source": [
    "# Let's look at the Euclidian and cosine differences in text analysis\n",
    "#### This tutorial is adapted from here. https://cmry.github.io/notes/euclidean-v-cosine \n",
    "##### You may have to install the wikipedia and scikit-learn packages from your terminal: \n",
    "##### > pip install wikipedia\n",
    "##### > conda install scikit-learn \n",
    "\n",
    "We will consider if the Machine Learning wikipedia page is more similar to the Artifical Intelligence, Baseball, or Garfield page using the Euclidian distance and cosine similarity metrics.  Then we will compare the similarities in an OpenAI tweet to the Wikipedia pages"
   ]
  },
  {
   "cell_type": "code",
   "execution_count": 17,
   "metadata": {},
   "outputs": [],
   "source": [
    "# Import Wikipedia and a text vectorization package from sklearn\n",
    "from sklearn.feature_extraction.text import CountVectorizer\n",
    "import wikipedia"
   ]
  },
  {
   "cell_type": "code",
   "execution_count": 49,
   "metadata": {},
   "outputs": [],
   "source": [
    "# Download articles from Wikipedia\n",
    "AI = wikipedia.page('Artifical Intelligence')\n",
    "ML = wikipedia.page(\"ML (programming language)\")\n",
    "BB = wikipedia.page('Baseball')\n",
    "G = wikipedia.page('Garfield')"
   ]
  },
  {
   "cell_type": "code",
   "execution_count": 50,
   "metadata": {},
   "outputs": [
    {
     "name": "stdout",
     "output_type": "stream",
     "text": [
      "[[1 0 0 ... 0 2 0]\n",
      " [0 0 0 ... 0 0 0]\n",
      " [0 0 0 ... 0 0 1]\n",
      " [2 1 1 ... 1 0 0]]\n",
      "(4, 4943)\n"
     ]
    }
   ],
   "source": [
    "# The stop_words='english' are a list of common english words that will be removed from the count vectorization\n",
    "# The CountVectorization.fit_transform() function from SKlearn splits the text and and counts the unique occurance of the words.\n",
    "# Very similar to a mapreduce function. The todense() function puts them into marrix form\n",
    "cv = CountVectorizer(stop_words = 'english')\n",
    "X = np.array(cv.fit_transform([AI.content, ML.content, BB.content, G.content]).todense())\n",
    "print(X)\n",
    "print(X.shape)"
   ]
  },
  {
   "cell_type": "code",
   "execution_count": 51,
   "metadata": {},
   "outputs": [
    {
     "name": "stdout",
     "output_type": "stream",
     "text": [
      "['000', '001', '006', '01', '03', '031', '048', '05', '06', '08', '08750', '10', '100', '101', '10th', '11', '111', '12', '13', '14', '15', '16', '17', '18', '1861', '1863', '1891', '1892', '1893', '1895', '1896', '1897', '1898', '1899', '19', '1901', '1904', '1905', '1906', '1907', '1910', '1915', '1917', '1920s', '1924', '1925', '1926', '1928', '1929', '1930', '1932', '1936', '1937', '1938', '1939', '1940', '1940s', '1941', '1942', '1943', '1946', '1948', '1949', '1950', '1950s', '1951', '1954', '1955', '1956', '1959', '1960', '1960s', '1961', '1964', '1967', '1968', '1969', '1970', '1970s', '1972', '1973', '1974', '1975', '1976', '1977', '1978', '1979', '1980', '1980s', '1981', '1982', '1983', '1984', '1985', '1986', '1987', '1988', '1989', '1990', '1990s', '1991', '1992', '1993', '1994', '1995', '1996', '1997', '1998', '1999', '20', '2001', '2002', '2004', '2005', '2006', '2007', '2008', '2009', '2010', '2010s', '2011', '2012', '2013', '2014', '2015', '2016', '2017', '2018', '2019', '2020', '2029', '2030', '2045', '20th', '21', '21st', '22', '222', '23', '24', '25', '26', '2600', '262', '263', '27', '275', '28', '285', '29', '295', '29th', '2nd', '30', '300', '30th', '31', '33', '345', '360', '37', '3809', '3d', '3x3', '41', '42', '42126', '42nd', '4414', '45204', '46', '47', '472', '49', '50', '5118', '521', '522', '56023', '567', '570', '57050', '57860', '580', '5m', '60', '600', '61', '618', '623', '63137', '63181', '64', '673', '69', '6926', '70', '700', '72', '7407', '75', '750', '7627', '7645', '790387', '81259', '83', '850', '88', '9000', '91', '92', '93', '94', '95971', '96', '978', '98', '980', '99', 'aaai', 'aau', 'aba', 'abandoned', 'abba', 'abdul', 'abi', 'abilities', 'ability', 'able', 'abounded', 'absorb', 'abstract', 'abu', 'abuse', 'academic', 'academies', 'academy', 'accelerated', 'accelerating', 'acceptable', 'accepted', 'accepts', 'access', 'accessible', 'accident', 'accidents', 'acclaimed', 'accompanied', 'accomplish', 'accomplished', 'accordance', 'according', 'accreditation', 'accumulate', 'accumulated', 'accumulator', 'accuracy', 'achieve', 'achieved', 'achieving', 'acknowledge', 'acknowledging', 'acquire', 'acquired', 'acquiring', 'acquisition', 'acres', 'acronym', 'act', 'acting', 'action', 'actionable', 'actions', 'active', 'actively', 'activities', 'actor', 'actors', 'actual', 'actually', 'ad', 'adam', 'adapt', 'adaptation', 'adaption', 'add', 'added', 'adding', 'addition', 'additional', 'additions', 'address', 'adds', 'adherents', 'adhesive', 'adjust', 'administrators', 'admitted', 'adolph', 'adopted', 'adult', 'advance', 'advanced', 'advances', 'advancing', 'advantage', 'advantageous', 'advent', 'adversarial', 'adverse', 'advertisements', 'advocated', 'advocating', 'aeronautical', 'affair', 'affect', 'affected', 'affectionate', 'affective', 'affects', 'affiliated', 'affinity', 'affixed', 'affordable', 'africa', 'african', 'agar', 'age', 'aged', 'agent', 'agents', 'agi', 'agile', 'agree', 'agreed', 'agreement', 'agriculture', 'ah', 'ai', 'aid', 'aim', 'aimed', 'ain', 'air', 'airborne', 'aired', 'ais', 'alabama', 'alan', 'albany', 'albeit', 'alberta', 'alcon', 'aldous', 'aleksander', 'algebra', 'algebraic', 'algorithm', 'algorithmic', 'algorithms', 'alice', 'aliens', 'alike', 'alison', 'alleged', 'allen', 'alleviating', 'allotted', 'allow', 'allowed', 'allowing', 'allows', 'alma', 'alog', 'alongside', 'alonzo', 'alphafold', 'alphago', 'alphazero', 'altered', 'altering', 'alternating', 'alternative', 'alternatively', 'alternatives', 'ama', 'amas', 'amateur', 'amazon', 'ambiguity', 'ambiguous', 'amenities', 'america', 'american', 'americans', 'americas', 'americup', 'amiga', 'amos', 'amounts', 'amstrad', 'analog', 'analogies', 'analogizers', 'analogy', 'analysis', 'analytical', 'analyze', 'analyzers', 'analyzes', 'andrew', 'andrews', 'androids', 'animal', 'animals', 'animated', 'animation', 'ankle', 'ann', 'anniversary', 'annotations', 'announced', 'annoys', 'annual', 'annually', 'anstey', 'answering', 'anthony', 'anthropomorphic', 'anti', 'antics', 'antiquity', 'anuman', 'anytime', 'anz', 'api', 'apologized', 'app', 'apparently', 'appeal', 'appealing', 'appear', 'appearance', 'appeared', 'appearing', 'appears', 'appleseed', 'application', 'applications', 'applied', 'applying', 'approach', 'approached', 'approaches', 'appropriately', 'approximate', 'approximately', 'approximators', 'april', 'araneta', 'arbuckle', 'arc', 'architecture', 'architectures', 'archive', 'archived', 'archives', 'arden', 'area', 'areas', 'argentina', 'argue', 'argued', 'argues', 'arguing', 'argument', 'arguments', 'arithmetic', 'ark', 'arlene', 'arm', 'armando', 'armories', 'arms', 'arrive', 'arrow', 'arrows', 'art', 'arthur', 'article', 'artificial', 'artist', 'artists', 'arvydas', 'ascribed', 'asia', 'asian', 'asimov', 'ask', 'asking', 'asks', 'aspect', 'aspects', 'assembler', 'asserting', 'assertion', 'assess', 'assessment', 'assigned', 'assigns', 'assist', 'assistant', 'assistants', 'associate', 'associated', 'association', 'associations', 'assume', 'assumption', 'assumptions', 'astonishing', 'asymmetric', 'atari', 'ate', 'athens', 'athletes', 'athletic', 'athletics', 'atomic', 'ats', 'attached', 'attack', 'attain', 'attaining', 'attempt', 'attempted', 'attempting', 'attempts', 'attend', 'attendance', 'attendees', 'attention', 'attitude', 'attract', 'attracted', 'attributed', 'attributes', 'august', 'australia', 'author', 'automated', 'automatic', 'automatically', 'automation', 'automobile', 'autonomous', 'autonomy', 'available', 'average', 'avid', 'avoid', 'awa', 'awakening', 'awarded', 'awarding', 'away', 'awkward', 'awry', 'baa', 'babe', 'backboard', 'backboards', 'backcourt', 'backed', 'background', 'backs', 'backspin', 'bad', 'baer', 'bailey', 'balance', 'balcony', 'ball', 'ballantine', 'balloons', 'balls', 'banner', 'banter', 'barker', 'barkley', 'barks', 'barnstorming', 'bars', 'base', 'based', 'baseline', 'bases', 'basic', 'basically', 'basics', 'basis', 'basket', 'basketball', 'baskets', 'bast', 'battlefield', 'bayesian', 'bbc', 'beach', 'beaches', 'beagle', 'beaming', 'beamis', 'bear', 'beast', 'beat', 'beaten', 'bed', 'began', 'beginning', 'begun', 'behave', 'behaved', 'behavior', 'behaviour', 'beings', 'believe', 'believed', 'believes', 'believing', 'belittled', 'bell', 'belongs', 'benchmarked', 'benchmarks', 'benedikt', 'beneficial', 'benefit', 'benefits', 'benevolence', 'benevolent', 'bent', 'berenson', 'beridze', 'berkeley', 'berlin', 'best', 'better', 'bias', 'biased', 'bibliography', 'big', 'big3', 'billion', 'bioinformatics', 'biological', 'biology', 'bird', 'birds', 'birthday', 'bishop', 'black', 'bladder', 'blatant', 'blessing', 'blind', 'blissfully', 'block', 'blockers', 'blocking', 'blocks', 'blog', 'blondie', 'bloomberg', 'blue', 'board', 'boards', 'boasts', 'bob', 'body', 'bogged', 'bogues', 'bogut', 'bol', 'boner', 'bonus', 'book', 'booked', 'books', 'boom', 'bore', 'born', 'boston', 'bostrom', 'bot', 'bothered', 'bots', 'botswana', 'bounce', 'bounces', 'bouncing', 'bound', 'boundary', 'bounding', 'bounds', 'box', 'boy', 'boys', 'brad', 'brain', 'brains', 'branding', 'brazil', 'bread', 'breadth', 'break', 'breakfast', 'breaking', 'breakthroughs', 'breathing', 'brett', 'brick', 'bridge', 'briefly', 'bright', 'brightest', 'britannica', 'british', 'broad', 'broader', 'broken', 'bronze', 'brooks', 'brother', 'brought', 'brown', 'browser', 'brush', 'bryant', 'bryn', 'budgeting', 'bugs', 'build', 'building', 'built', 'business', 'butler', 'buy', 'cakeml', 'calculate', 'calculus', 'california', 'called', 'calling', 'calls', 'camaraderie', 'cambridge', 'came', 'cameras', 'caml', 'camp', 'campaign', 'campbell', 'camps', 'canada', 'canadian', 'cancelled', 'cancelling', 'candace', 'canon', 'cantankerous', 'capabilities', 'capability', 'capable', 'capacity', 'capture', 'captured', 'cardiovascular', 'cards', 'care', 'career', 'caribbean', 'carl', 'carnegie', 'carried', 'carrots', 'carry', 'carrying', 'cars', 'cartoon', 'cartoonish', 'cartoonist', 'cartoons', 'carver', 'case', 'cases', 'casually', 'cat', 'catalog', 'catalyst', 'catches', 'catching', 'categories', 'category', 'catholic', 'cats', 'cattitude', 'caught', 'cause', 'causes', 'caution', 'cbs', 'celebrate', 'celebrated', 'celebrates', 'celebrating', 'celebrities', 'celebrity', 'celtics', 'center', 'centered', 'centers', 'central', 'centre', 'century', 'ceo', 'cepheus', 'certain', 'certainty', 'cg', 'cgi', 'chagrin', 'chain', 'challenge', 'challenges', 'challenging', 'chalmers', 'chamberlain', 'champion', 'championing', 'champions', 'championship', 'championships', 'chance', 'chances', 'change', 'changed', 'changes', 'changing', 'channel', 'character', 'characterizes', 'characters', 'charge', 'charged', 'charismatic', 'charity', 'charles', 'chases', 'cheating', 'check', 'checkers', 'checking', 'chess', 'chest', 'chicago', 'chicken', 'chief', 'chiki', 'child', 'children', 'chile', 'china', 'chinese', 'chirpy', 'chocolate', 'choices', 'choose', 'chooses', 'choron', 'chorus', 'chosen', 'chris', 'christian', 'christmas', 'chronicles', 'church', 'circle', 'circular', 'circumference', 'circumstances', 'circus', 'cited', 'cities', 'city', 'civilization', 'claim', 'claimed', 'claiming', 'claims', 'clara', 'clark', 'clarke', 'class', 'classes', 'classic', 'classical', 'classification', 'classified', 'classifier', 'classifiers', 'classifies', 'classroom', 'clear', 'cleared', 'clearly', 'clergy', 'climate', 'clinical', 'clinics', 'clock', 'clocks', 'close', 'closed', 'closely', 'closet', 'closures', 'clothes', 'clothing', 'cloud', 'club', 'clubs', 'clumsy', 'cm', 'cmos', 'cmu', 'coach', 'coached', 'coaches', 'code', 'codes', 'coffee', 'cognition', 'cognitive', 'cohen', 'coherent', 'coincide', 'coincided', 'coined', 'cold', 'coliseum', 'collaborated', 'collaboration', 'collapse', 'collar', 'colleague', 'collect', 'collected', 'collecting', 'collection', 'collectively', 'college', 'colleges', 'collegiate', 'collins', 'colloquially', 'color', 'colorado', 'coloring', 'columbia', 'com', 'combination', 'combinations', 'combinatorial', 'combine', 'combined', 'combining', 'come', 'comes', 'comic', 'comical', 'comics', 'coming', 'command', 'commander', 'commenced', 'commentary', 'commercial', 'commissioner', 'commitment', 'committed', 'committee', 'commodore', 'common', 'commonly', 'commonsense', 'communicate', 'communication', 'communities', 'community', 'companies', 'company', 'comparatively', 'compare', 'compared', 'comparing', 'compas', 'compatible', 'compelling', 'compete', 'competed', 'competently', 'competing', 'competition', 'competitions', 'competitive', 'compiler', 'compilers', 'complains', 'complaint', 'complaints', 'complementary', 'complete', 'completely', 'completion', 'complex', 'complexity', 'compliant', 'complicated', 'complications', 'component', 'components', 'comprehend', 'comprehensive', 'comprises', 'computation', 'computational', 'computationalism', 'computationally', 'compute', 'computed', 'computer', 'computers', 'computing', 'conceivable', 'conceived', 'concept', 'conception', 'concepts', 'conceptually', 'concern', 'concerned', 'concerning', 'concerns', 'conclude', 'concluded', 'conclusion', 'concurrent', 'conduct', 'conference', 'confirmation', 'confirmed', 'conforming', 'confront', 'confusion', 'congress', 'conjecture', 'connected', 'connection', 'connectionism', 'connections', 'conscious', 'consciousness', 'consecutive', 'consequences', 'consider', 'considerable', 'considerations', 'considered', 'considering', 'considers', 'consist', 'consistently', 'consisting', 'consists', 'consolidation', 'constant', 'constraints', 'construct', 'constructed', 'construction', 'consume', 'contact', 'contain', 'contained', 'containing', 'contains', 'content', 'contents', 'contests', 'context', 'continent', 'continental', 'continents', 'continue', 'continued', 'continuing', 'continuously', 'contract', 'contrary', 'contrast', 'contributed', 'contributing', 'control', 'controlled', 'controlling', 'controls', 'controversial', 'controversy', 'convenient', 'convention', 'conventions', 'convergent', 'convergently', 'conversation', 'conversationally', 'conversely', 'conversion', 'conveying', 'convinced', 'cook', 'cooks', 'cooperates', 'cooperation', 'coordination', 'copy', 'copyrighted', 'coq', 'cornell', 'corner', 'corpulent', 'correct', 'correctly', 'correlate', 'correlating', 'couldn', 'councilmen', 'count', 'counterarguments', 'counterintuitively', 'counterpart', 'counterparts', 'counters', 'countries', 'country', 'couple', 'course', 'court', 'courtroom', 'courts', 'cousy', 'cover', 'coverage', 'covered', 'covid', 'cpc', 'crazy', 'create', 'created', 'creates', 'creating', 'creation', 'creative', 'creatives', 'creator', 'credit', 'crew', 'crime', 'criminals', 'crippled', 'crisply', 'critic', 'critical', 'critically', 'criticism', 'critics', 'critique', 'croatians', 'cross', 'crossover', 'crouching', 'crowd', 'crowded', 'crowds', 'crucial', 'cruises', 'crush', 'cubao', 'culminate', 'cultural', 'culture', 'cup', 'curb', 'curing', 'curlie', 'current', 'currently', 'currying', 'curtailed', 'custom', 'customer', 'customers', 'cut', 'cuts', 'cyberneticist', 'cybernetics', 'cyborgs', 'cyc', 'cyclone', 'cyclones', 'cynical', 'czechoslovakia', 'daily', 'dan', 'dance', 'danger', 'dangerous', 'dansicker', 'dark', 'dartmouth', 'darwin', 'darwinian', 'data', 'database', 'databases', 'datasets', 'date', 'dates', 'dating', 'david', 'davis', 'day', 'days', 'dead', 'deadpan', 'deaf', 'deal', 'dealing', 'death', 'debut', 'debuted', 'dec', 'decade', 'decades', 'december', 'decide', 'decided', 'decidedly', 'decides', 'decision', 'decisions', 'declining', 'decorating', 'dedicated', 'deduce', 'deduction', 'deductions', 'deep', 'deepfakes', 'deeply', 'deepmind', 'default', 'defeated', 'defeating', 'defence', 'defend', 'defendant', 'defendants', 'defender', 'defenders', 'defending', 'defense', 'defenses', 'defensive', 'deference', 'define', 'defined', 'defines', 'definition', 'defunct', 'degree', 'degrees', 'delays', 'deliberately', 'delineated', 'delivery', 'delusional', 'demand', 'demonstrate', 'demonstrated', 'demonstrates', 'demonstration', 'demonstrators', 'denture', 'denver', 'department', 'dependent', 'depending', 'depends', 'depicted', 'depicting', 'depicts', 'deployment', 'depth', 'derive', 'derived', 'descending', 'described', 'describes', 'description', 'descriptions', 'descriptive', 'deserve', 'design', 'designated', 'designations', 'designed', 'designer', 'desire', 'desired', 'desk', 'desktop', 'desperation', 'despite', 'detailed', 'determine', 'detlef', 'detract', 'devalues', 'develop', 'developed', 'developing', 'development', 'developmental', 'developments', 'device', 'devices', 'devise', 'devotion', 'devoured', 'dexterity', 'dhabi', 'diagnosis', 'dialect', 'dialects', 'diameter', 'diana', 'diaries', 'dick', 'did', 'didrikson', 'diego', 'diet', 'diets', 'differ', 'difference', 'differences', 'different', 'difficult', 'difficulty', 'digital', 'digits', 'dilemmas', 'dimension', 'dimensions', 'dindal', 'diner', 'dinners', 'direct', 'directed', 'direction', 'directional', 'directions', 'directly', 'director', 'dirk', 'disabled', 'disadvantage', 'disagree', 'disagreement', 'disappoint', 'disappointment', 'disapproves', 'disassembled', 'discerning', 'disciple', 'discipline', 'discount', 'discourage', 'discouraged', 'discourse', 'discovered', 'discoveries', 'discovering', 'discovery', 'discussed', 'discusses', 'discussion', 'discussions', 'disdain', 'disease', 'diseases', 'dislike', 'disney', 'dispatched', 'dispersed', 'display', 'displayed', 'displays', 'dispute', 'disqualification', 'disqualifying', 'disrepute', 'disrupt', 'distance', 'distances', 'distinct', 'distinction', 'distinguish', 'distinguishing', 'distributed', 'distribution', 'district', 'divac', 'diverse', 'divided', 'division', 'doc', 'doctors', 'document', 'documentary', 'documented', 'documents', 'does', 'doesn', 'dog', 'dogs', 'doing', 'dollars', 'dolls', 'domain', 'domains', 'dominance', 'dominant', 'dominate', 'dominated', 'dominating', 'don', 'donated', 'donations', 'donkey', 'donkeys', 'door', 'dot', 'double', 'doug', 'dowel', 'downward', 'dozens', 'dr', 'draft', 'drag', 'dramatically', 'drawing', 'drawn', 'draws', 'dražen', 'dreads', 'dream', 'dreyfus', 'dribble', 'dribbled', 'dribbler', 'dribblers', 'dribbling', 'drive', 'driven', 'driving', 'drones', 'dropped', 'drove', 'drugs', 'dryer', 'ds', 'dubai', 'duck', 'dumb', 'dune', 'dunk', 'dunks', 'durant', 'dutch', 'dutchman', 'dvds', 'dwight', 'dwindled', 'dydek', 'dynamic', 'dynamics', 'dyson', 'eager', 'eared', 'earlier', 'earliest', 'early', 'earned', 'earning', 'ears', 'earth', 'earvin', 'easier', 'easiest', 'easily', 'east', 'easy', 'eat', 'eatery', 'eating', 'eccentric', 'echoes', 'economic', 'economically', 'economics', 'economist', 'economists', 'economy', 'ed', 'edge', 'edinburgh', 'edited', 'editing', 'edition', 'editor', 'edmonton', 'education', 'educational', 'edward', 'effect', 'effective', 'effectively', 'effects', 'efficiency', 'efficient', 'efficiently', 'effort', 'ejection', 'elaborate', 'elaborated', 'elderly', 'election', 'electric', 'electrodes', 'electronic', 'elegant', 'elements', 'elephant', 'elevate', 'elevated', 'eliminated', 'eliminates', 'elite', 'elm', 'elon', 'email', 'embarrassing', 'embedded', 'embodied', 'embody', 'emerged', 'emergent', 'emerges', 'emerging', 'eminent', 'emmis', 'emmy', 'emotion', 'emotional', 'emotionality', 'empathy', 'emperor', 'emphasis', 'emphasize', 'emphasizes', 'emphasizing', 'employing', 'employment', 'emulate', 'enable', 'enabled', 'enables', 'enabling', 'encounter', 'encourage', 'encourages', 'encyclopedia', 'encyclopædia', 'end', 'endearing', 'ended', 'ending', 'endline', 'endorsed', 'endoscopy', 'endowed', 'ends', 'endurance', 'energy', 'engage', 'engaged', 'engaging', 'engineering', 'engines', 'england', 'english', 'enhance', 'enjoyed', 'enjoys', 'enormity', 'enormous', 'ensue', 'ensure', 'ensures', 'entertainment', 'entire', 'environment', 'environments', 'episodes', 'equal', 'equipment', 'equivalent', 'equivalently', 'era', 'erects', 'ergo', 'error', 'errors', 'erving', 'escape', 'especially', 'espn', 'essay', 'essence', 'essential', 'essentially', 'establish', 'established', 'establishing', 'estimate', 'estimates', 'ethical', 'ethically', 'ethics', 'ettinger', 'eurobasket', 'eurogames', 'euroleague', 'europe', 'european', 'eval', 'evaluate', 'evaluated', 'evaluation', 'evanier', 'eve', 'evening', 'event', 'events', 'eventual', 'eventually', 'evolution', 'evolutionary', 'evolve', 'evolved', 'evolving', 'ex', 'exact', 'exactly', 'exaggerate', 'examining', 'example', 'examples', 'exceed', 'exceeding', 'exceeds', 'exception', 'exceptionally', 'exceptions', 'excess', 'excessive', 'exchange', 'excluded', 'exclusively', 'execute', 'executes', 'execution', 'executive', 'exercise', 'exercised', 'exercises', 'exertion', 'exhibit', 'exhibiting', 'exhibition', 'exhibits', 'exist', 'existence', 'existing', 'exists', 'expanded', 'expect', 'expensive', 'experience', 'experienced', 'experiences', 'experimental', 'experiments', 'expert', 'expertise', 'experts', 'expires', 'explain', 'explainable', 'explaining', 'explains', 'explanations', 'explanatory', 'explicit', 'explicitly', 'exploitation', 'exploration', 'exploratory', 'explore', 'explored', 'explosion', 'exponential', 'exponentially', 'exposed', 'express', 'expressed', 'expression', 'expressions', 'extended', 'extending', 'extension', 'extensions', 'extensive', 'external', 'extra', 'extreme', 'extremely', 'eye', 'eyes', 'fac', 'facebook', 'faced', 'faces', 'facial', 'facilitate', 'facility', 'facing', 'fact', 'factorial', 'factorials', 'factories', 'factors', 'factory', 'facts', 'factual', 'fads', 'fail', 'failed', 'failing', 'failure', 'fair', 'faithfully', 'fake', 'fall', 'falling', 'falls', 'false', 'falsified', 'fame', 'familiar', 'families', 'family', 'famous', 'fans', 'fantastic', 'fantasy', 'far', 'farm', 'farming', 'farthest', 'fascinated', 'fashion', 'fashioned', 'fast', 'faster', 'fastest', 'fat', 'fates', 'father', 'favorably', 'fear', 'feasible', 'feature', 'featured', 'features', 'featuring', 'february', 'federation', 'feel', 'feeling', 'feels', 'feeny', 'fees', 'feet', 'feigenbaum', 'feline', 'fell', 'felt', 'female', 'females', 'fence', 'ferris', 'fest', 'fever', 'fi', 'fiba', 'fiction', 'field', 'fielded', 'fields', 'fifth', 'figured', 'figures', 'figuring', 'file', 'files', 'filled', 'film', 'films', 'filtering', 'final', 'finally', 'financial', 'finding', 'finds', 'finger', 'fingertips', 'finishing', 'firms', 'fish', 'fist', 'fit', 'fitness', 'fits', 'fixing', 'flagrant', 'flat', 'flexible', 'flies', 'flight', 'flipped', 'floor', 'flooring', 'flung', 'fly', 'focus', 'focused', 'focuses', 'focusing', 'fodor', 'folded', 'folk', 'follow', 'followed', 'following', 'follows', 'fond', 'food', 'fools', 'foot', 'football', 'force', 'ford', 'forerunner', 'foreword', 'forfeits', 'forgetting', 'forks', 'form', 'formal', 'formalize', 'formalized', 'formally', 'format', 'formed', 'forms', 'forrest', 'forth', 'forward', 'forwards', 'fought', 'foul', 'fouled', 'fouls', 'foundation', 'foundations', 'founded', 'founder', 'founders', 'founding', 'fourth', 'fractions', 'framed', 'framework', 'france', 'franchise', 'francisco', 'frank', 'frankenstein', 'franklin', 'fredkin', 'free', 'french', 'frequencies', 'frequent', 'frequently', 'freshmen', 'frey', 'friction', 'friend', 'friendlier', 'friendly', 'friends', 'frustrations', 'ft', 'fully', 'fun', 'function', 'functional', 'functionalism', 'functionalist', 'functions', 'fund', 'fundamental', 'fundamentals', 'funded', 'funding', 'funds', 'funfest', 'funnies', 'future', 'futures', 'fuzzy', 'fédération', 'gags', 'gain', 'gaining', 'gains', 'gambling', 'game', 'games', 'garbage', 'garfield', 'garfieldeats', 'garfuccinos', 'garry', 'gary', 'gasol', 'gate', 'gates', 'gather', 'gathered', 'gathering', 'gatorade', 'gay', 'gaze', 'gdp', 'gear', 'geek', 'gender', 'general', 'generalize', 'generalized', 'generalizes', 'generally', 'generate', 'generating', 'generation', 'generations', 'generic', 'genesis', 'geneva', 'genius', 'genuine', 'geographically', 'george', 'georgetown', 'german', 'gerrymandered', 'gets', 'getting', 'gheorghe', 'ghost', 'giant', 'gifted', 'girl', 'girls', 'given', 'gives', 'giving', 'glare', 'global', 'globally', 'globe', 'globetrotters', 'gnat', 'gnorm', 'goal', 'goals', 'goaltending', 'gocomics', 'goes', 'gofai', 'going', 'gold', 'golden', 'gone', 'good', 'goofball', 'google', 'gort', 'got', 'governed', 'governing', 'government', 'governments', 'gpt', 'grads', 'gradually', 'graduation', 'grams', 'granddaughter', 'grandfather', 'grandmother', 'granted', 'grasp', 'great', 'greater', 'greatest', 'greatly', 'greece', 'greenwood', 'gregory', 'greta', 'grew', 'grey', 'grins', 'gripping', 'groove', 'ground', 'group', 'groups', 'grow', 'growing', 'grown', 'grows', 'growth', 'guaranteed', 'guard', 'guarded', 'guarding', 'guards', 'guidance', 'guide', 'guided', 'guides', 'guinness', 'gunner', 'guys', 'gym', 'gymnasium', 'gymnasiums', 'gynoids', 'gödel', 'gödelian', 'ha', 'hacking', 'hadn', 'hairy', 'hajime', 'hakeem', 'hal', 'half', 'halfcourt', 'halfway', 'hall', 'halloween', 'halls', 'halves', 'hamline', 'hampton', 'hand', 'handheld', 'handicaps', 'handing', 'handle', 'handled', 'handler', 'handlers', 'handling', 'hands', 'handwritten', 'hang', 'hans', 'happen', 'happened', 'happening', 'happens', 'happy', 'harari', 'harass', 'harcourt', 'hard', 'harder', 'hardly', 'hardware', 'harlem', 'harm', 'harper', 'harry', 'harvey', 'haskell', 'hasn', 'hates', 'hatred', 'haugeland', 'having', 'hawking', 'haworth', 'head', 'header', 'heads', 'heal', 'healthcare', 'healthy', 'hear', 'heard', 'heart', 'heat', 'heaved', 'heavily', 'heavy', 'height', 'heights', 'held', 'help', 'helped', 'helpful', 'helping', 'helps', 'herbert', 'hermes', 'heroes', 'heuristics', 'hiatus', 'hidden', 'hides', 'hierarchical', 'high', 'higher', 'highest', 'highly', 'hilary', 'hind', 'hindley', 'hinkle', 'hired', 'hiring', 'historical', 'historically', 'history', 'hit', 'hits', 'hmm', 'hoc', 'hockey', 'hoffmann', 'hold', 'holding', 'holds', 'hole', 'holiday', 'holograms', 'holyoke', 'home', 'hometown', 'hoop', 'hoops', 'hoosier', 'hoosiers', 'hoped', 'hopkins', 'horrifying', 'horseback', 'horseball', 'horses', 'host', 'hosted', 'hosts', 'houghton', 'hour', 'hours', 'house', 'household', 'houseplants', 'howard', 'hubert', 'huge', 'hugged', 'hugs', 'human', 'humanity', 'humankind', 'humans', 'humorous', 'humorously', 'hundreds', 'hungry', 'hurd', 'hurts', 'huskies', 'huxley', 'hybrid', 'hybrids', 'hyper', 'hyperintelligence', 'hypothesis', 'hypothetical', 'hysteria', 'iaaus', 'ibm', 'icy', 'idea', 'ideal', 'ideas', 'identical', 'identification', 'identified', 'identifies', 'identify', 'idiosyncratic', 'igor', 'ii', 'illegal', 'illinois', 'illuminated', 'illustrate', 'illustrated', 'image', 'images', 'imagination', 'imitate', 'imitated', 'immature', 'immediately', 'impact', 'imperative', 'imperfect', 'implement', 'implementation', 'implementations', 'implemented', 'implements', 'implicated', 'implicit', 'implicitly', 'implied', 'implies', 'implying', 'important', 'imported', 'imposed', 'impossible', 'impractical', 'impressed', 'improve', 'improved', 'improvement', 'improvements', 'improving', 'impure', 'inability', 'inbounds', 'inception', 'inch', 'inches', 'incidence', 'incidents', 'include', 'included', 'includes', 'including', 'incomplete', 'incomprehensible', 'incorporated', 'increase', 'increased', 'increases', 'increasing', 'increasingly', 'inde', 'indexing', 'india', 'indiana', 'indicate', 'indicating', 'indicator', 'indirect', 'indistinguishable', 'individual', 'individuals', 'indoor', 'indoors', 'induce', 'induced', 'industrial', 'industry', 'inefficient', 'inevitably', 'inference', 'inferences', 'infinite', 'inflatable', 'inflate', 'influence', 'influenced', 'influences', 'influenza', 'informal', 'informally', 'information', 'informs', 'infraction', 'infractions', 'infrared', 'infrastructure', 'infused', 'inhabited', 'initially', 'initiative', 'injuries', 'inking', 'innately', 'inner', 'input', 'inputs', 'ins', 'inserting', 'inside', 'insight', 'inspired', 'instance', 'instantly', 'instead', 'instinct', 'institute', 'institutions', 'instructions', 'instructor', 'instrumental', 'insufficient', 'int', 'intact', 'integer', 'integrating', 'integration', 'intellectual', 'intelligence', 'intelligent', 'intelligently', 'intended', 'intense', 'intent', 'intention', 'intentional', 'intentionally', 'intentions', 'interacting', 'interaction', 'interactions', 'interactive', 'intercept', 'intercollegiate', 'interdisciplinary', 'interested', 'interesting', 'interests', 'interface', 'interfaces', 'interfere', 'interference', 'interinstitutional', 'interior', 'internal', 'international', 'internationale', 'internationally', 'internet', 'interpret', 'interpretation', 'interpretations', 'interpreter', 'interscholastic', 'interuniversity', 'interview', 'intimidates', 'intrinsically', 'introduced', 'introduction', 'intuitions', 'intuitive', 'intuitively', 'invented', 'inventor', 'inverse', 'investigation', 'investments', 'invitation', 'invitational', 'invitations', 'invite', 'involved', 'involves', 'involving', 'irakli', 'irma', 'irrelevant', 'irresponsible', 'isaac', 'isbn', 'isiah', 'ismail', 'isn', 'isolated', 'issue', 'issues', 'iswim', 'italian', 'italy', 'iverson', 'jabbar', 'jack', 'james', 'january', 'japan', 'japanese', 'jason', 'java', 'jeffrey', 'jennings', 'jeopardy', 'jerry', 'jersey', 'jie', 'jim', 'job', 'jobs', 'jocularly', 'joey', 'john', 'johnny', 'johns', 'johnson', 'joined', 'joint', 'joke', 'jokes', 'joking', 'jon', 'jonathan', 'jordan', 'joseph', 'journals', 'jud', 'judge', 'judging', 'judgments', 'judicial', 'julius', 'july', 'jump', 'jumped', 'jumping', 'jumps', 'june', 'jurisdictions', 'just', 'kangaroo', 'kansas', 'kareem', 'karel', 'karl', 'kart', 'kasparov', 'katharine', 'ke', 'keeping', 'ken', 'kentucky', 'kevin', 'key', 'keyword', 'kg', 'kick', 'kicked', 'kicking', 'kill', 'kind', 'kinect', 'kingdom', 'kingston', 'kiss', 'kitchen', 'kitten', 'kitties', 'knickerbockers', 'know', 'knowing', 'knowledge', 'known', 'knows', 'kobe', 'konami', 'korf', 'korfbal', 'korfball', 'koth', 'krzyzewski', 'kubrick', 'kukoč', 'kurzweil', 'label', 'labelled', 'laboratories', 'laboratory', 'laborious', 'labyrinth', 'lace', 'laces', 'lack', 'lacking', 'lacks', 'lady', 'laid', 'lambda', 'landing', 'landmark', 'landscape', 'lane', 'lang', 'language', 'languages', 'large', 'largely', 'larger', 'largest', 'larry', 'lasagna', 'lasagnator', 'lasted', 'lasting', 'late', 'later', 'latvia', 'laughed', 'launch', 'launched', 'law', 'lawrence', 'laws', 'lay', 'layups', 'lazily', 'laziness', 'lazy', 'lcf', 'lead', 'leaders', 'leading', 'league', 'leagues', 'leap', 'learn', 'learner', 'learners', 'learning', 'learnings', 'leaves', 'leaving', 'lebron', 'led', 'lee', 'legal', 'legendary', 'legends', 'legitimate', 'legs', 'lenat', 'length', 'lengthy', 'leoni', 'leslie', 'lesotho', 'lesson', 'lethal', 'letterman', 'level', 'levels', 'lexical', 'lgbtqia', 'libraries', 'library', 'licensing', 'lidar', 'lie', 'life', 'lifelike', 'lift', 'light', 'lighthill', 'like', 'likeliest', 'likelihood', 'likely', 'lillian', 'limit', 'limitations', 'limited', 'limits', 'line', 'linear', 'lines', 'linguistics', 'link', 'links', 'lisa', 'lisp', 'list', 'listed', 'lists', 'literal', 'lithuania', 'lithuanians', 'little', 'live', 'lives', 'liz', 'll', 'loathes', 'loathing', 'locally', 'located', 'location', 'locations', 'locked', 'logic', 'logical', 'logistics', 'logo', 'loneliness', 'lonely', 'long', 'longer', 'longest', 'longley', 'look', 'looked', 'looking', 'looks', 'loop', 'loose', 'loosely', 'lorenzo', 'losing', 'loss', 'losses', 'lost', 'lot', 'loudly', 'love', 'loves', 'low', 'lower', 'lowered', 'lowest', 'loyal', 'loyola', 'luc', 'lucas', 'lunch', 'lying', 'lyman', 'lyrics', 'ma', 'macau', 'machina', 'machine', 'machinery', 'machines', 'macqueen', 'macro', 'mad', 'mads', 'magic', 'mahan', 'mailing', 'main', 'mainly', 'mainstream', 'maintaining', 'maintenance', 'major', 'majority', 'make', 'makers', 'makes', 'making', 'male', 'males', 'malevolence', 'malevolent', 'malone', 'mama', 'man', 'manage', 'management', 'manager', 'managers', 'managing', 'mandated', 'manga', 'manila', 'manipulate', 'manipulation', 'manner', 'manoeuver', 'mansour', 'manually', 'manute', 'map', 'maple', 'maps', 'march', 'margin', 'margo', 'mark', 'marked', 'market', 'marketable', 'marketing', 'markov', 'markstein', 'marquee', 'martin', 'marvin', 'mary', 'marčiulionis', 'mask', 'mason', 'mass', 'massachusetts', 'massive', 'master', 'masters', 'match', 'matching', 'mater', 'material', 'math', 'mathematical', 'mathematically', 'mathematicians', 'mathematics', 'matrix', 'maturation', 'mature', 'mauritius', 'mawr', 'maxi', 'maximize', 'maximizing', 'mccarthy', 'mccullouch', 'mcgill', 'mcmeel', 'mead', 'meade', 'meaning', 'means', 'meant', 'measurable', 'measure', 'measured', 'measurement', 'measurements', 'measures', 'measuring', 'mechanical', 'mechanism', 'mechanisms', 'medal', 'media', 'mediators', 'medical', 'meeting', 'meetings', 'mega', 'mellon', 'members', 'memories', 'memory', 'men', 'mental', 'mention', 'mentioned', 'merchandise', 'merchandising', 'mere', 'merely', 'merge', 'merged', 'merger', 'merges', 'merging', 'met', 'meta', 'metal', 'metalanguage', 'metallic', 'metareasoning', 'meter', 'meters', 'method', 'methods', 'metres', 'mezzanine', 'micaa', 'mice', 'michael', 'michigan', 'micro', 'microphones', 'microsoft', 'mid', 'middle', 'midget', 'midnight', 'midwest', 'mifflin', 'mikan', 'mike', 'mild', 'milestone', 'military', 'million', 'millions', 'milner', 'mimic', 'mind', 'minds', 'mindwalker', 'mini', 'minimize', 'minimizing', 'mining', 'minnesota', 'minor', 'minority', 'minsky', 'minus', 'minute', 'minutes', 'mischief', 'misclassifies', 'misguided', 'miss', 'missed', 'misses', 'mission', 'mistake', 'mistakes', 'misuse', 'mit', 'mitigation', 'mixed', 'ml', 'mlton', 'mobile', 'mobility', 'model', 'modeling', 'models', 'moderate', 'modern', 'modes', 'modest', 'modified', 'modifying', 'module', 'modules', 'mohammed', 'moment', 'momentarily', 'moments', 'mondays', 'money', 'monkeys', 'month', 'monthly', 'months', 'montreal', 'moore', 'moral', 'morality', 'moravec', 'morning', 'mos', 'moscow', 'mother', 'moths', 'motion', 'motives', 'motor', 'mount', 'mounted', 'moved', 'movement', 'movements', 'moves', 'movie', 'movies', 'moving', 'mozart', 'mrs', 'muggsy', 'multi', 'multimodal', 'multiple', 'multiplication', 'multivac', 'muncie', 'munich', 'murderous', 'mureșan', 'murray', 'muscle', 'muscles', 'muscular', 'museum', 'music', 'musical', 'musk', 'mutate', 'muzero', 'myth', 'nagging', 'naia', 'nailed', 'naismith', 'named', 'names', 'namibia', 'nancy', 'narrative', 'narrow', 'nascent', 'nash', 'nashville', 'nation', 'national', 'nationalities', 'nations', 'nationwide', 'native', 'natural', 'nature', 'naval', 'navigate', 'navigation', 'naïve', 'nba', 'nbl', 'ncaa', 'neal', 'near', 'nearby', 'nearest', 'nearly', 'nearsighted', 'neat', 'necessarily', 'necessary', 'necessitate', 'need', 'needed', 'negative', 'negatively', 'neighbor', 'nelson', 'nemerle', 'nermal', 'nervous', 'net', 'netball', 'netherlands', 'nets', 'network', 'networks', 'neural', 'neurobiology', 'neurons', 'new', 'newcomb', 'newcomer', 'newell', 'news', 'newspaper', 'newspapers', 'newswire', 'nice', 'niche', 'nick', 'nickelodeon', 'night', 'nightmare', 'ninjas', 'nit', 'nj', 'nlp', 'noah', 'nominally', 'non', 'nonnegative', 'nonprofit', 'norbert', 'normal', 'normally', 'normative', 'north', 'notable', 'notably', 'notation', 'note', 'noted', 'notes', 'noticed', 'notices', 'noting', 'notion', 'notions', 'nouvelle', 'novel', 'november', 'nowadays', 'nowitzki', 'nuanced', 'number', 'numbers', 'numerical', 'numerous', 'obesity', 'object', 'objective', 'objects', 'oblivious', 'observation', 'observers', 'obsession', 'obsessive', 'obtaining', 'obvious', 'ocaml', 'occam', 'occasion', 'occasional', 'occasionally', 'occasions', 'occupied', 'occur', 'occurrence', 'occurrences', 'occurs', 'october', 'odd', 'odie', 'odyssey', 'oecd', 'offense', 'offensive', 'offensively', 'offered', 'offering', 'offerings', 'offers', 'office', 'official', 'officials', 'offs', 'ogre', 'olajuwon', 'old', 'older', 'oldest', 'olympic', 'olympics', 'omitted', 'ones', 'ongoing', 'online', 'onlookers', 'onomatopoeia', 'ontario', 'ontological', 'ontologies', 'ontology', 'onward', 'onwards', 'opec', 'open', 'openai', 'opened', 'opening', 'opens', 'operate', 'operated', 'operating', 'operations', 'opinion', 'opponent', 'opponents', 'opportunities', 'opposed', 'opposing', 'opposite', 'opposition', 'optical', 'optimal', 'optimism', 'optimistic', 'optimization', 'optimizing', 'optional', 'oracle', 'orange', 'order', 'ordered', 'org', 'organic', 'organization', 'organizations', 'organized', 'organizes', 'origin', 'original', 'originally', 'originals', 'originated', 'osborne', 'oscar', 'ought', 'outcome', 'outdoors', 'outgames', 'outlandish', 'outlet', 'outlined', 'output', 'outputs', 'outs', 'outscore', 'outside', 'outward', 'overall', 'overfitting', 'overhead', 'overlap', 'overly', 'overpower', 'oversaw', 'oversees', 'overstated', 'overtaking', 'overtime', 'overview', 'owned', 'owner', 'owning', 'oxide', 'oz', 'padded', 'page', 'paid', 'painted', 'pair', 'pal', 'pandemic', 'panel', 'panels', 'paper', 'papert', 'papp', 'paradigm', 'paradigms', 'paradox', 'paragraph', 'paralegals', 'parallel', 'parameter', 'parameters', 'parametric', 'parent', 'parentheses', 'parents', 'parked', 'parker', 'parochial', 'partially', 'participants', 'participate', 'participated', 'particular', 'particularly', 'parts', 'pass', 'passed', 'passer', 'passers', 'passes', 'passing', 'past', 'pasta', 'patches', 'path', 'pathetic', 'pathfinding', 'patient', 'patients', 'pattern', 'patterns', 'patting', 'pau', 'paulson', 'pause', 'paving', 'paws', 'pdf', 'peace', 'peach', 'peak', 'pearson', 'pedal', 'pedals', 'pedestrian', 'pedestrians', 'pen', 'penalizing', 'penalty', 'pendleton', 'penetration', 'penrose', 'people', 'pequot', 'perceives', 'percentage', 'perception', 'perform', 'performance', 'performed', 'perimeter', 'period', 'periodically', 'periods', 'peripheral', 'permit', 'permitted', 'persistent', 'person', 'persona', 'personal', 'personality', 'personnel', 'perspective', 'perspectives', 'peruse', 'pervasive', 'pests', 'pet', 'peter', 'petrović', 'pets', 'phenomenon', 'philip', 'philippine', 'philippines', 'philosopher', 'philosophers', 'philosophical', 'philosophy', 'phog', 'photographs', 'phyllis', 'physical', 'physically', 'physicist', 'physics', 'pi', 'pick', 'picture', 'pictures', 'pie', 'piece', 'pies', 'pig', 'piracy', 'pitts', 'pittsburgh', 'pivot', 'pixels', 'pizza', 'place', 'placed', 'places', 'placing', 'plan', 'planet', 'planks', 'planned', 'planning', 'plans', 'plaques', 'plastic', 'platform', 'platforms', 'play', 'played', 'player', 'players', 'playgrounds', 'playing', 'playmakers', 'plays', 'playstation', 'pleasing', 'plug', 'plumbing', 'pluribus', 'poetry', 'point', 'points', 'poked', 'poker', 'police', 'policies', 'policy', 'polite', 'political', 'politician', 'politics', 'polka', 'polo', 'polymorphic', 'polymorphism', 'ponderously', 'poodle', 'pooky', 'pool', 'poor', 'poorly', 'pop', 'popular', 'popularity', 'popularized', 'population', 'portray', 'portrayed', 'portugal', 'pose', 'position', 'positioning', 'positionless', 'positions', 'positive', 'possess', 'possessed', 'possession', 'possessions', 'possibilities', 'possibility', 'possible', 'possibly', 'post', 'posted', 'poster', 'potential', 'potentially', 'pound', 'pounds', 'power', 'powerful', 'pplambda', 'practical', 'practice', 'practiced', 'practices', 'pray', 'pre', 'preceded', 'precise', 'precisely', 'predicate', 'predict', 'predictable', 'predicted', 'predicting', 'prediction', 'predictions', 'predictive', 'predicts', 'prefer', 'preferentially', 'prefers', 'preloads', 'premature', 'premier', 'premiered', 'prentice', 'prep', 'prepared', 'preparing', 'presence', 'present', 'presently', 'presents', 'preserve', 'president', 'presidential', 'press', 'pressure', 'prestigious', 'presumably', 'prevent', 'preventing', 'prevention', 'previous', 'previously', 'price', 'pricewaterhousecoopers', 'pride', 'primarily', 'primary', 'prime', 'primetime', 'primitives', 'princeton', 'principal', 'principle', 'principles', 'print', 'printed', 'prior', 'priori', 'privacy', 'private', 'pro', 'probability', 'probably', 'problem', 'problematic', 'problems', 'procedure', 'process', 'processes', 'processing', 'produce', 'produced', 'producer', 'producing', 'product', 'production', 'productive', 'productivity', 'professional', 'professionals', 'professions', 'professor', 'professorgarfield', 'profile', 'profiles', 'profitable', 'profoundly', 'profusion', 'program', 'programmed', 'programmer', 'programming', 'programs', 'progress', 'progresses', 'progressing', 'project', 'projects', 'prolog', 'prominent', 'promote', 'promoted', 'promoting', 'prompt', 'prompted', 'proof', 'propel', 'proper', 'properly', 'properties', 'property', 'proportion', 'proposal', 'proposed', 'proposing', 'propublica', 'prospects', 'protect', 'protecting', 'protein', 'prototype', 'prototypical', 'provably', 'proved', 'proven', 'prover', 'provers', 'provide', 'provided', 'provides', 'proving', 'ps2', 'psychological', 'psychology', 'psychotherapy', 'public', 'publication', 'publications', 'publish', 'published', 'publisher', 'publishers', 'publishes', 'publishing', 'puerto', 'punchline', 'punished', 'punishing', 'punishments', 'puppy', 'purchase', 'purchased', 'pure', 'purely', 'purpose', 'push', 'pushed', 'pushes', 'putnam', 'puzzle', 'puzzles', 'quadratic', 'qualification', 'qualify', 'quantitative', 'quarter', 'quarters', 'quebec', 'queen', 'query', 'question', 'questions', 'quezon', 'quick', 'quickly', 'quinton', 'quip', 'quirks', 'quiz', 'race', 'radar', 'radically', 'radio', 'rainy', 'raised', 'raises', 'raisins', 'ramifications', 'ran', 'random', 'randomizer', 'range', 'ranged', 'ranging', 'ranking', 'ranks', 'rapidly', 'rare', 'rarely', 'rat', 'rate', 'rates', 'ratio', 'rational', 'ray', 'razor', 'reach', 'reached', 'reaches', 'reaching', 'react', 'reaction', 'reactive', 'reacts', 'read', 'readers', 'readily', 'reading', 'ready', 'real', 'realfield', 'realistic', 'realization', 'realize', 'realized', 'realizes', 'really', 'reason', 'reasonableness', 'reasoning', 'reasons', 'rebellion', 'rebound', 'rebounding', 'rebounds', 'receipts', 'receive', 'received', 'receiver', 'receives', 'receiving', 'recent', 'recently', 'reception', 'recidivism', 'recidivist', 'recipe', 'reclaim', 'recognition', 'recognize', 'recognized', 'recolored', 'recommended', 'record', 'records', 'recover', 'recovered', 'recreational', 'recruit', 'rectangular', 'recurring', 'recursing', 'recursion', 'recursive', 'red', 'redeem', 'redesign', 'redirect', 'redirects', 'redistributed', 'redraw', 'redraws', 'reduce', 'reduced', 'reducing', 'refer', 'referee', 'referees', 'reference', 'referenced', 'references', 'referred', 'refers', 'refined', 'reflect', 'reflected', 'reflective', 'reflects', 'refused', 'regain', 'regardless', 'regional', 'regression', 'regular', 'regularly', 'regulate', 'regulated', 'regulating', 'regulation', 'regulations', 'regulatory', 'reigning', 'reinforce', 'reinforcement', 'reins', 'reinstate', 'reintroduced', 'rejected', 'rejecting', 'related', 'relations', 'relationship', 'relationships', 'relative', 'relatively', 'relaxed', 'release', 'released', 'relentless', 'relevant', 'reliance', 'reliant', 'relies', 'remain', 'remained', 'remaining', 'remains', 'remark', 'remarked', 'remarks', 'remembrance', 'removed', 'removing', 'renaissance', 'renamed', 'renewed', 'renowned', 'rens', 'rent', 'repeated', 'repertoires', 'repetitive', 'replaced', 'replayed', 'replicate', 'replicates', 'replied', 'report', 'reported', 'reportedly', 'reports', 'repositioned', 'represent', 'representation', 'representations', 'represented', 'reprinted', 'reproduce', 'reproducible', 'reprogram', 'republic', 'requested', 'require', 'required', 'requirement', 'requirements', 'requires', 'requiring', 'research', 'researched', 'researcher', 'researchers', 'researching', 'reservation', 'reset', 'residents', 'resolve', 'resort', 'resources', 'response', 'responses', 'responsibilities', 'responsible', 'rest', 'restaurant', 'restaurants', 'restore', 'restricted', 'result', 'resulted', 'resulting', 'results', 'resume', 'resumed', 'resurgence', 'retaining', 'retains', 'retcons', 'retitled', 'retraining', 'retrieval', 'retrieve', 'retrieved', 'retrospect', 'return', 'returns', 'reunites', 'revealed', 'reverse', 'reverses', 'review', 'reviews', 'revised', 'revived', 'revolution', 'revolutions', 'revolve', 'revolves', 'reward', 'rewarded', 'rewarding', 'rewards', 'rewritten', 'rezball', 'richmond', 'rico', 'riding', 'right', 'rights', 'rigorously', 'rik', 'rim', 'rimini', 'rims', 'ringball', 'rise', 'risk', 'risks', 'rivaling', 'ro', 'robert', 'robertson', 'robin', 'robot', 'robotic', 'robotics', 'robots', 'robust', 'rock', 'rocked', 'rodney', 'roger', 'rogers', 'role', 'roles', 'roll', 'rolled', 'rolls', 'rom', 'romania', 'room', 'roommate', 'roosevelt', 'rooster', 'root', 'roots', 'rose', 'rosters', 'rough', 'roughly', 'round', 'route', 'routine', 'routing', 'row', 'rowdy', 'royalties', 'rubin', 'rudimentary', 'rugby', 'rule', 'rules', 'rumelhart', 'run', 'runaway', 'running', 'runs', 'runtime', 'rupp', 'rural', 'russell', 'russia', 'rutter', 'ryan', 'sabonis', 'sadistic', 'safety', 'said', 'sail', 'salaries', 'sale', 'sam', 'sample', 'samuel', 'san', 'sandra', 'sarcastic', 'sardonic', 'sassy', 'saturday', 'save', 'saving', 'say', 'saying', 'says', 'scalable', 'scale', 'scandals', 'scans', 'scare', 'scary', 'scenario', 'scene', 'schank', 'scholars', 'school', 'schools', 'schrempf', 'sci', 'science', 'scientific', 'scientist', 'scientists', 'scooped', 'scoped', 'scoping', 'score', 'scoreboard', 'scoreboards', 'scorebook', 'scored', 'scoring', 'scott', 'scouts', 'screen', 'screens', 'scruffy', 'seal', 'search', 'searching', 'searle', 'season', 'seasonal', 'seasons', 'second', 'secondary', 'seconds', 'secrets', 'section', 'sector', 'security', 'sedol', 'seeing', 'seeks', 'seen', 'sees', 'sega', 'segments', 'seldom', 'selected', 'selection', 'self', 'semantic', 'semantics', 'semi', 'semiconductor', 'semifinals', 'senda', 'sends', 'senior', 'sense', 'sensitive', 'sensorimotor', 'sensors', 'sensory', 'sent', 'sentences', 'sentience', 'sentient', 'sentiment', 'separate', 'separated', 'separately', 'september', 'sequel', 'sequels', 'sequence', 'sequential', 'serbian', 'series', 'seriously', 'serve', 'serves', 'service', 'services', 'session', 'set', 'sets', 'setting', 'settings', 'settled', 'settling', 'setup', 'seven', 'sewn', 'sexes', 'sexy', 'seymour', 'shaky', 'shane', 'shape', 'shaped', 'shaquille', 'share', 'shared', 'shaving', 'shedding', 'sheep', 'sheet', 'sheets', 'shell', 'shelley', 'shift', 'shins', 'shirt', 'shoes', 'shone', 'shoot', 'shooter', 'shooting', 'shoots', 'shop', 'short', 'shortcomings', 'shorter', 'shortest', 'shortly', 'shorts', 'shot', 'shots', 'showed', 'showing', 'shown', 'shows', 'shuffling', 'shut', 'sight', 'sighted', 'signals', 'signature', 'signed', 'signer', 'significance', 'significant', 'significantly', 'signified', 'signing', 'silent', 'similar', 'similarly', 'simon', 'simple', 'simpler', 'simplest', 'simplified', 'simply', 'simulate', 'simulated', 'simulating', 'simulation', 'simulations', 'simultaneously', 'singapore', 'singers', 'single', 'sings', 'singularity', 'sir', 'siri', 'site', 'sites', 'sitters', 'situated', 'situation', 'situations', 'sixth', 'sixties', 'sizable', 'size', 'sized', 'sketches', 'skill', 'skilled', 'skills', 'skinny', 'skins', 'skip', 'skype', 'slam', 'slamball', 'slashed', 'sleep', 'slightly', 'slimmed', 'slippage', 'slips', 'slobbering', 'slow', 'slowed', 'slower', 'slowing', 'slurp', 'small', 'smaller', 'smallest', 'smartphones', 'smile', 'smith', 'smits', 'sml', 'smoky', 'snake', 'snap', 'sneakers', 'snow', 'soar', 'soccer', 'social', 'socialization', 'socialized', 'society', 'socks', 'soft', 'software', 'sold', 'soldiers', 'solely', 'solution', 'solutions', 'solve', 'solved', 'solves', 'solving', 'someday', 'somewhat', 'son', 'sonar', 'song', 'soon', 'sophie', 'sophisticated', 'sophomore', 'sophomores', 'sorayama', 'sort', 'sought', 'source', 'sources', 'south', 'soviet', 'space', 'spaces', 'spaceship', 'spacex', 'spalding', 'spam', 'span', 'spares', 'spatial', 'spawned', 'speak', 'speaking', 'special', 'specialized', 'specials', 'species', 'specific', 'specifically', 'specified', 'specifies', 'specify', 'spectators', 'spectrum', 'speculates', 'speech', 'spell', 'spends', 'spent', 'spider', 'spiders', 'spin', 'spinach', 'spinning', 'spinoff', 'split', 'splut', 'sponsoring', 'sponsors', 'sporadic', 'sport', 'sporting', 'sports', 'spot', 'spotting', 'sprang', 'spread', 'spreading', 'springfield', 'spud', 'spurred', 'squad', 'squads', 'square', 'squashed', 'squinty', 'squished', 'st', 'stack', 'staff', 'stage', 'stagg', 'stall', 'stamina', 'stamp', 'standard', 'standards', 'standing', 'stanford', 'stanley', 'staple', 'star', 'starred', 'stars', 'start', 'started', 'starting', 'starts', 'starved', 'state', 'stated', 'statements', 'states', 'static', 'statically', 'stating', 'stationary', 'statistical', 'statisticians', 'statistics', 'statue', 'stature', 'status', 'stay', 'stays', 'steady', 'steal', 'stealing', 'steals', 'steam', 'steel', 'stems', 'step', 'stephen', 'steps', 'stern', 'steve', 'steven', 'stockton', 'stood', 'stop', 'stoppages', 'stopped', 'stopper', 'stopping', 'stops', 'storagewith', 'store', 'stores', 'stories', 'storm', 'story', 'storyline', 'storylines', 'storytelling', 'straightens', 'straightforward', 'strategic', 'strategies', 'strategy', 'stream', 'streams', 'streetball', 'streets', 'strength', 'strengths', 'strict', 'strictly', 'strikes', 'strip', 'strips', 'strong', 'strongest', 'struck', 'structural', 'structuralist', 'structure', 'structured', 'structuring', 'stuart', 'stuck', 'student', 'students', 'studied', 'studios', 'study', 'studying', 'stuffed', 'stupid', 'stupidity', 'style', 'stylistic', 'sub', 'subexpressions', 'subject', 'subjective', 'subjectivity', 'subjects', 'subsequent', 'subsequently', 'subsidiary', 'substantial', 'substantially', 'substitution', 'substitutions', 'subsymbolic', 'suburban', 'succeed', 'succeeded', 'succeeds', 'success', 'successes', 'successful', 'successfully', 'successor', 'suddenly', 'sudoku', 'suffer', 'suffered', 'sufficient', 'sufficiently', 'suggest', 'suggested', 'suicide', 'suited', 'summer', 'summit', 'sun', 'sunday', 'super', 'superficial', 'superhuman', 'superhumanly', 'superintelligence', 'superintelligent', 'superpower', 'superseded', 'superstars', 'supervised', 'supervising', 'supply', 'support', 'supported', 'supporting', 'supports', 'sure', 'surface', 'surpass', 'surpassing', 'survey', 'survive', 'svm', 'swans', 'swarm', 'swat', 'swatch', 'swimming', 'switch', 'switcheroo', 'switzerland', 'symbol', 'symbolic', 'symbolism', 'symbols', 'sympathetic', 'symposium', 'symptoms', 'syndicate', 'syndicated', 'syndication', 'synergies', 'syntactic', 'syntax', 'systems', 'tabby', 'table', 'tables', 'tac', 'tactics', 'tactile', 'tags', 'tail', 'taken', 'takes', 'taking', 'tale', 'talent', 'talk', 'talked', 'talking', 'talks', 'tall', 'taller', 'tallest', 'tapped', 'target', 'targeted', 'targeting', 'task', 'tasks', 'taste', 'taurasi', 'teach', 'teacher', 'teachers', 'team', 'teammate', 'teammates', 'teams', 'teamwork', 'tech', 'technical', 'technique', 'techniques', 'technological', 'technologically', 'technologies', 'technology', 'teddy', 'tedious', 'teleological', 'televised', 'television', 'telling', 'temperature', 'tend', 'tended', 'tendencies', 'tends', 'tennessee', 'term', 'terminate', 'terminating', 'terminator', 'terms', 'terrible', 'territory', 'terrorist', 'terrorists', 'tesler', 'test', 'tested', 'testing', 'tests', 'text', 'textbooks', 'texts', 'textual', 'thanks', 'theaters', 'theatrical', 'theme', 'themed', 'themes', 'theodore', 'theorem', 'theorems', 'theoretic', 'theoretical', 'theoretically', 'theories', 'theorist', 'theorizing', 'theory', 'thesis', 'thiel', 'thing', 'things', 'think', 'thinking', 'thirds', 'thirty', 'thomas', 'thomason', 'thought', 'thoughts', 'threat', 'threatened', 'threats', 'thrived', 'throw', 'throwing', 'thrown', 'throws', 'thumb', 'thumbs', 'tic', 'tie', 'tied', 'ties', 'tightly', 'time', 'timed', 'timekeeping', 'times', 'timing', 'tipped', 'tires', 'titans', 'title', 'titled', 'titles', 'today', 'toe', 'toenails', 'tofte', 'told', 'tolerant', 'tomorrow', 'tongue', 'toni', 'tony', 'took', 'tools', 'toonopedia', 'topic', 'topics', 'toronto', 'tossing', 'total', 'touch', 'touched', 'touches', 'touching', 'tour', 'toured', 'touring', 'tournament', 'tournaments', 'tours', 'towa', 'town', 'towns', 'toy', 'toys', 'track', 'tractable', 'tractor', 'tradition', 'traditional', 'traditions', 'traffic', 'trained', 'trainers', 'training', 'traits', 'trajectory', 'tramiel', 'trampoline', 'trampolines', 'tranquilized', 'transfer', 'transformer', 'transhumanism', 'transistor', 'translate', 'translation', 'trap', 'travel', 'traveling', 'travels', 'treat', 'tree', 'trees', 'trek', 'trend', 'tribune', 'tribute', 'tricking', 'tried', 'tries', 'trip', 'trips', 'trope', 'trouble', 'true', 'truly', 'truth', 'try', 'trying', 'tumbleweeds', 'turing', 'turkey', 'turned', 'turnout', 'turnovers', 'turtles', 'tuskegee', 'tv', 'twentieth', 'twice', 'type', 'typed', 'types', 'typical', 'typically', 'typing', 'ufs', 'ugly', 'ullman', 'ultimate', 'ultimately', 'umbrella', 'umpires', 'unabated', 'unambiguous', 'unanswered', 'unattractive', 'unaware', 'uncertain', 'uncertainty', 'uncharted', 'unconcerned', 'unconscious', 'uncontrolled', 'uncouth', 'underage', 'underestimated', 'undergo', 'underhand', 'understand', 'understanding', 'understate', 'understood', 'underwent', 'undesirable', 'undiscovered', 'unemployment', 'unfairly', 'unfathomable', 'unicri', 'unicycle', 'unicycles', 'uniform', 'uniforms', 'unify', 'unifying', 'unintended', 'unintentionally', 'union', 'unique', 'united', 'universal', 'universities', 'university', 'unknown', 'unless', 'unlike', 'unlikely', 'unlimited', 'unlock', 'unnatural', 'unnecessary', 'unofficial', 'unpaid', 'unpredictable', 'unrealistic', 'unrelated', 'unrivaled', 'unsportsmanlike', 'unstructured', 'unsuccessful', 'unsupervised', 'upper', 'upstart', 'urban', 'usage', 'use', 'used', 'useful', 'useless', 'user', 'users', 'uses', 'ushering', 'using', 'usually', 'utility', 'valuable', 'value', 'values', 'variant', 'variants', 'variation', 'variations', 'varied', 'varies', 'variety', 'various', 'varsity', 'vary', 'varying', 'vassar', 've', 'vehicles', 'vein', 'velocity', 'venues', 'verbally', 'verification', 'verified', 'vernor', 'version', 'versions', 'vertical', 'vet', 'veterans', 'veterinarian', 'viacom', 'viacomcbs', 'vicarious', 'victory', 'video', 'videos', 'videotaped', 'vied', 'view', 'viewed', 'viewing', 'vigorous', 'vilis', 'vinge', 'violation', 'violations', 'violence', 'virtual', 'virtually', 'visible', 'vision', 'visited', 'visits', 'visual', 'visualization', 'visualize', 'vlade', 'vlsi', 'voice', 'voiced', 'void', 'volitional', 'volume', 'volumes', 'voyager', 'wait', 'waited', 'waiter', 'waitress', 'wake', 'walk', 'walking', 'walks', 'wall', 'wallach', 'walled', 'walsh', 'walt', 'walter', 'wanders', 'want', 'wanted', 'wants', 'war', 'warfare', 'warns', 'warwick', 'watched', 'watching', 'water', 'watson', 'waves', 'way', 'ways', 'weapons', 'wear', 'wearing', 'weather', 'web', 'webb', 'webcomic', 'website', 'websites', 'week', 'weekend', 'weeks', 'wegner', 'weighs', 'weight', 'weizenbaum', 'wellesley', 'wendell', 'went', 'west', 'whatsoever', 'wheel', 'wheelchair', 'wheelchairs', 'whichever', 'whistle', 'white', 'wide', 'widely', 'widespread', 'wielding', 'wiener', 'wiley', 'william', 'willing', 'wilson', 'wilt', 'windows', 'wings', 'winning', 'wins', 'winter', 'winters', 'wireless', 'wisdom', 'wish', 'witted', 'wizard', 'wnba', 'woman', 'women', 'won', 'wonder', 'wondered', 'woo', 'wood', 'word', 'words', 'work', 'worked', 'working', 'works', 'workshop', 'world', 'worldwide', 'worry', 'worrying', 'worth', 'wouldn', 'wrist', 'write', 'writer', 'writes', 'writing', 'written', 'wrong', 'wrote', 'www', 'xbox', 'yahoo', 'yale', 'yang', 'year', 'years', 'yellow', 'ymca', 'ymcas', 'york', 'young', 'younger', 'youth', 'youtube', 'yuval', 'zalta', 'zdnet', 'zeal', 'zealand', 'zero', 'zombie', 'zone', 'zoom', 'zuckerberg', 'zx', 'čapek', 'šarūnas']\n"
     ]
    }
   ],
   "source": [
    "# Let's see the feature names, or mapped values are\n",
    "print(cv.get_feature_names())"
   ]
  },
  {
   "cell_type": "code",
   "execution_count": 52,
   "metadata": {},
   "outputs": [
    {
     "name": "stdout",
     "output_type": "stream",
     "text": [
      "AI word length      \t 10518 \n",
      "ML word length      \t 1180 \n",
      "Baseball word length\t 10211 \n",
      "Garfield word length \t 5313\n"
     ]
    }
   ],
   "source": [
    "# Lets see how many words are in each document\n",
    "print(\"AI word length      \\t\", len(AI.content.split()), \"\\n\"\n",
    "      \"ML word length      \\t\", len(ML.content.split()), \"\\n\"\n",
    "      \"Baseball word length\\t\", len(BB.content.split()), \"\\n\"\n",
    "      \"Garfield word length \\t\", len(G.content.split()))\n"
   ]
  },
  {
   "cell_type": "markdown",
   "metadata": {},
   "source": [
    "Euclidian distance is magnitude dependent. Therefore we would think the euclidiane distance metric will say that the \n",
    "machine learning wikipedia page is more similar to the Garfield page than the AI page becuase they are closer in size."
   ]
  },
  {
   "cell_type": "code",
   "execution_count": 55,
   "metadata": {},
   "outputs": [
    {
     "name": "stdout",
     "output_type": "stream",
     "text": [
      "AI - ML\t 289.67913283493516 \n",
      "AI - G\t 354.1087403609236\n"
     ]
    }
   ],
   "source": [
    "print(\"AI - ML\\t\", euclidian_distance(X[0], X[1]), \"\\n\"\n",
    "      \"AI - G\\t\", euclidian_distance(X[0], X[3]))"
   ]
  },
  {
   "cell_type": "markdown",
   "metadata": {},
   "source": [
    "We can see that according the eculidian distance metric the ML page is more similar to the Garfield page than AI.  That does not seem right..."
   ]
  },
  {
   "cell_type": "markdown",
   "metadata": {},
   "source": [
    "The cosine similarity metric is not magnitude dependent and therefore we would imaging that AI is more similar to \n",
    "the machine learning page than the Garfield page"
   ]
  },
  {
   "cell_type": "code",
   "execution_count": 56,
   "metadata": {},
   "outputs": [
    {
     "name": "stdout",
     "output_type": "stream",
     "text": [
      "ML - AI\t 0.09391797747270726 \n",
      "ML - G\t 0.05587565946003011\n"
     ]
    }
   ],
   "source": [
    "print(\"ML - AI\\t\", cosine_similarity(X[0], X[1]), \"\\n\"\n",
    "      \"ML - G\\t\", cosine_similarity(X[0], X[3]))"
   ]
  },
  {
   "cell_type": "markdown",
   "metadata": {},
   "source": [
    "Here we see that the ML and AI pages are more similar than the others.  That is a more intuitively correct result."
   ]
  },
  {
   "cell_type": "markdown",
   "metadata": {},
   "source": [
    "###### Lets consider an OpenAI tweet to further demostrate the magnitude affect between euclidian distance and cosine similarity\n"
   ]
  },
  {
   "cell_type": "code",
   "execution_count": 33,
   "metadata": {},
   "outputs": [
    {
     "name": "stdout",
     "output_type": "stream",
     "text": [
      "ml_tweet word length\t 35 \n",
      "\n",
      "(1, 4769)\n"
     ]
    }
   ],
   "source": [
    "ml_tweet=(\"We’ve trained a large-scale unsupervised language model which generates coherent paragraphs of text, achieves state-of-the-art performance on many language modeling benchmarks, and performs rudimentary reading comprehension, machine translation, question answering, and summarization—all without task-specific training.\")\n",
    "x = np.array(cv.transform([ml_tweet]).todense())\n",
    "print(\"ml_tweet word length\\t\", len(ml_tweet.split()), \"\\n\")\n",
    "print(x.shape)"
   ]
  },
  {
   "cell_type": "code",
   "execution_count": 39,
   "metadata": {
    "scrolled": true
   },
   "outputs": [
    {
     "name": "stdout",
     "output_type": "stream",
     "text": [
      "[[0, 0, 0, 0, 0, 0, 0, 0, 0, 0, 0, 0, 0, 0, 0, 0, 0, 0, 0, 0, 0, 0, 0, 0, 0, 0, 0, 0, 0, 0, 0, 0, 0, 0, 0, 0, 0, 0, 0, 0, 0, 0, 0, 0, 0, 0, 0, 0, 0, 0, 0, 0, 0, 0, 0, 0, 0, 0, 0, 0, 0, 0, 0, 0, 0, 0, 0, 0, 0, 0, 0, 0, 0, 0, 0, 0, 0, 0, 0, 0, 0, 0, 0, 0, 0, 0, 0, 0, 0, 0, 0, 0, 0, 0, 0, 0, 0, 0, 0, 0, 0, 0, 0, 0, 0, 0, 0, 0, 0, 0, 0, 0, 0, 0, 0, 0, 0, 0, 0, 0, 0, 0, 0, 0, 0, 0, 0, 0, 0, 0, 0, 0, 0, 0, 0, 0, 0, 0, 0, 0, 0, 0, 0, 0, 0, 0, 0, 0, 0, 0, 0, 0, 0, 0, 0, 0, 0, 0, 0, 0, 0, 0, 0, 0, 0, 0, 0, 0, 0, 0, 0, 0, 0, 0, 0, 0, 0, 0, 0, 0, 0, 0, 0, 0, 0, 0, 0, 0, 0, 0, 0, 0, 0, 0, 0, 0, 0, 0, 0, 0, 0, 0, 0, 0, 0, 0, 0, 0, 0, 0, 0, 0, 0, 0, 0, 0, 0, 0, 0, 0, 0, 0, 0, 0, 0, 0, 0, 0, 0, 0, 0, 0, 0, 0, 0, 0, 0, 0, 0, 0, 0, 0, 0, 0, 0, 0, 0, 0, 0, 0, 0, 0, 0, 0, 0, 0, 0, 0, 0, 0, 0, 0, 0, 0, 0, 0, 0, 0, 0, 0, 0, 0, 0, 0, 0, 0, 0, 0, 0, 0, 0, 0, 0, 0, 0, 0, 0, 0, 0, 0, 0, 0, 0, 0, 0, 0, 0, 0, 0, 0, 0, 0, 0, 0, 0, 0, 0, 0, 0, 0, 0, 0, 0, 0, 0, 0, 0, 0, 0, 0, 0, 0, 0, 0, 0, 0, 0, 0, 0, 0, 0, 0, 0, 0, 0, 0, 0, 0, 0, 0, 0, 0, 0, 0, 0, 0, 0, 0, 0, 0, 0, 0, 0, 0, 0, 0, 0, 0, 0, 0, 0, 0, 0, 0, 0, 0, 0, 0, 0, 0, 0, 0, 0, 0, 0, 0, 0, 0, 0, 0, 0, 0, 0, 0, 0, 0, 0, 0, 0, 0, 0, 0, 0, 0, 0, 0, 0, 0, 0, 0, 0, 0, 0, 0, 0, 0, 0, 0, 0, 0, 0, 0, 0, 1, 0, 0, 0, 0, 0, 0, 0, 0, 0, 0, 0, 0, 0, 0, 0, 0, 0, 0, 0, 0, 0, 0, 0, 0, 0, 0, 0, 0, 0, 0, 0, 0, 0, 0, 0, 0, 0, 0, 0, 0, 0, 0, 0, 0, 0, 0, 0, 0, 0, 0, 0, 0, 0, 0, 0, 1, 0, 0, 0, 0, 0, 0, 0, 0, 0, 0, 0, 0, 0, 0, 0, 0, 0, 0, 0, 0, 0, 0, 0, 0, 0, 0, 0, 0, 0, 0, 0, 0, 0, 0, 0, 0, 0, 0, 0, 0, 0, 0, 0, 0, 0, 0, 0, 0, 0, 0, 0, 0, 0, 0, 0, 0, 0, 0, 0, 0, 0, 0, 0, 0, 0, 0, 0, 0, 0, 0, 0, 0, 0, 0, 0, 0, 0, 0, 0, 0, 0, 0, 0, 0, 0, 0, 0, 0, 0, 0, 0, 0, 0, 0, 0, 0, 0, 0, 0, 0, 0, 0, 0, 0, 0, 0, 0, 0, 0, 0, 0, 0, 0, 0, 0, 0, 0, 0, 0, 0, 0, 0, 0, 0, 0, 0, 0, 0, 0, 0, 0, 0, 0, 0, 0, 0, 0, 0, 0, 0, 0, 1, 0, 0, 0, 0, 0, 0, 0, 0, 0, 0, 0, 0, 0, 0, 0, 0, 0, 0, 0, 0, 0, 0, 0, 0, 0, 0, 0, 0, 0, 0, 0, 0, 0, 0, 0, 0, 0, 0, 0, 0, 0, 0, 0, 0, 0, 0, 0, 0, 0, 0, 0, 0, 0, 0, 0, 0, 0, 0, 0, 0, 0, 0, 0, 0, 0, 0, 0, 0, 0, 0, 0, 0, 0, 0, 0, 0, 0, 0, 0, 0, 0, 0, 0, 0, 0, 0, 0, 0, 0, 0, 0, 0, 0, 0, 0, 0, 0, 0, 0, 0, 0, 0, 0, 0, 0, 0, 0, 0, 0, 0, 0, 0, 0, 0, 0, 0, 0, 0, 0, 0, 0, 0, 0, 0, 0, 0, 0, 0, 0, 0, 0, 0, 0, 0, 0, 0, 0, 0, 0, 0, 0, 0, 0, 0, 0, 0, 0, 0, 0, 0, 0, 0, 0, 0, 0, 0, 0, 0, 0, 0, 0, 0, 0, 0, 0, 0, 0, 0, 0, 0, 0, 0, 0, 0, 0, 0, 0, 0, 0, 0, 0, 0, 0, 0, 0, 0, 0, 0, 0, 0, 0, 0, 0, 0, 0, 0, 0, 0, 0, 0, 0, 0, 0, 0, 0, 0, 0, 0, 0, 0, 0, 0, 0, 0, 0, 0, 0, 0, 0, 0, 0, 0, 0, 0, 0, 0, 0, 0, 0, 0, 0, 0, 0, 0, 0, 0, 0, 0, 0, 0, 0, 0, 0, 0, 0, 0, 0, 0, 0, 0, 0, 0, 0, 0, 0, 0, 0, 0, 0, 0, 0, 0, 0, 0, 0, 0, 0, 0, 0, 0, 0, 0, 0, 0, 0, 0, 0, 0, 0, 0, 0, 0, 0, 0, 0, 0, 0, 0, 0, 0, 0, 0, 0, 0, 0, 0, 0, 0, 0, 0, 1, 0, 0, 0, 0, 0, 0, 0, 0, 0, 0, 0, 0, 0, 0, 0, 0, 0, 0, 0, 0, 0, 0, 0, 0, 0, 0, 0, 0, 0, 0, 0, 0, 0, 0, 0, 0, 0, 0, 0, 0, 0, 0, 0, 0, 0, 0, 0, 0, 0, 0, 0, 0, 0, 0, 0, 0, 0, 0, 0, 0, 0, 0, 0, 0, 0, 0, 0, 0, 0, 0, 0, 0, 0, 0, 0, 0, 0, 0, 0, 0, 0, 0, 0, 0, 0, 0, 0, 0, 0, 0, 0, 0, 0, 0, 0, 0, 0, 0, 0, 0, 0, 0, 0, 0, 0, 0, 0, 0, 0, 0, 0, 0, 0, 0, 0, 0, 0, 0, 0, 0, 0, 0, 0, 0, 0, 0, 0, 0, 0, 0, 0, 0, 0, 0, 0, 0, 0, 0, 0, 0, 0, 0, 0, 0, 0, 0, 0, 0, 0, 0, 0, 0, 0, 0, 0, 0, 0, 0, 0, 0, 0, 0, 0, 0, 0, 0, 0, 0, 0, 0, 0, 0, 0, 0, 0, 0, 0, 0, 0, 0, 0, 0, 0, 0, 0, 0, 0, 0, 0, 0, 0, 0, 0, 0, 0, 0, 0, 0, 0, 0, 0, 0, 0, 0, 0, 0, 0, 0, 0, 0, 0, 0, 0, 0, 0, 0, 0, 0, 0, 0, 0, 0, 0, 0, 0, 0, 0, 0, 0, 0, 0, 0, 0, 0, 0, 0, 0, 0, 0, 0, 0, 0, 0, 0, 0, 0, 0, 0, 0, 0, 0, 0, 0, 0, 0, 0, 0, 0, 0, 0, 0, 0, 0, 0, 0, 0, 0, 0, 0, 0, 0, 0, 0, 0, 0, 0, 0, 0, 0, 0, 0, 0, 0, 0, 0, 0, 0, 0, 0, 0, 0, 0, 0, 0, 0, 0, 0, 0, 0, 0, 0, 0, 0, 0, 0, 0, 0, 0, 0, 0, 0, 0, 0, 0, 0, 0, 0, 0, 0, 0, 0, 0, 0, 0, 0, 0, 0, 0, 0, 0, 0, 0, 0, 0, 0, 0, 0, 0, 0, 0, 0, 0, 0, 0, 0, 0, 0, 0, 0, 0, 0, 0, 0, 0, 0, 0, 0, 0, 0, 0, 0, 0, 0, 0, 0, 0, 0, 0, 0, 0, 0, 0, 0, 0, 0, 0, 0, 0, 0, 0, 0, 0, 0, 0, 0, 0, 0, 0, 0, 0, 0, 0, 0, 0, 0, 0, 0, 0, 0, 0, 0, 0, 0, 0, 0, 0, 0, 0, 0, 0, 0, 0, 0, 0, 0, 0, 0, 0, 0, 0, 0, 0, 0, 0, 0, 0, 0, 0, 0, 0, 0, 0, 0, 0, 0, 0, 0, 0, 0, 0, 0, 0, 0, 0, 0, 0, 0, 0, 0, 0, 0, 0, 0, 0, 0, 0, 0, 0, 0, 0, 0, 0, 0, 0, 0, 0, 0, 0, 0, 0, 0, 0, 0, 0, 0, 0, 0, 0, 0, 0, 0, 0, 0, 0, 0, 0, 0, 0, 0, 0, 0, 0, 0, 0, 0, 0, 0, 0, 0, 0, 0, 0, 0, 0, 0, 0, 0, 0, 0, 0, 0, 0, 0, 0, 0, 0, 0, 0, 0, 0, 0, 0, 0, 0, 0, 0, 0, 0, 0, 0, 0, 0, 0, 0, 0, 0, 0, 0, 0, 0, 0, 0, 0, 0, 0, 0, 0, 0, 0, 0, 0, 0, 0, 0, 0, 0, 0, 0, 0, 0, 0, 0, 0, 0, 0, 0, 0, 0, 0, 0, 0, 0, 0, 0, 0, 0, 0, 0, 0, 0, 0, 0, 0, 0, 0, 0, 0, 0, 0, 0, 0, 0, 0, 0, 0, 0, 0, 0, 0, 0, 0, 0, 0, 0, 0, 0, 0, 0, 0, 0, 0, 0, 0, 0, 0, 0, 0, 0, 0, 0, 0, 0, 0, 0, 0, 0, 0, 0, 0, 0, 0, 0, 0, 0, 0, 0, 0, 0, 0, 0, 0, 0, 0, 0, 0, 0, 0, 0, 0, 0, 0, 0, 0, 0, 0, 0, 0, 0, 0, 0, 0, 0, 0, 0, 0, 0, 0, 0, 0, 0, 0, 0, 0, 0, 0, 0, 0, 0, 0, 0, 0, 0, 0, 0, 0, 0, 0, 0, 0, 0, 0, 0, 0, 0, 0, 0, 0, 0, 0, 0, 0, 0, 0, 0, 0, 0, 0, 0, 0, 0, 0, 0, 0, 0, 0, 0, 0, 0, 0, 0, 0, 0, 0, 0, 0, 0, 0, 0, 0, 0, 0, 0, 0, 0, 0, 0, 0, 0, 0, 0, 0, 0, 0, 0, 0, 0, 0, 0, 0, 0, 0, 0, 0, 0, 0, 0, 0, 0, 0, 0, 0, 0, 0, 0, 0, 0, 0, 0, 0, 0, 0, 0, 0, 0, 0, 0, 0, 0, 0, 0, 0, 0, 0, 0, 0, 0, 0, 0, 0, 0, 0, 0, 0, 0, 0, 0, 0, 0, 0, 0, 0, 0, 0, 0, 0, 0, 0, 0, 0, 0, 0, 0, 0, 0, 0, 0, 0, 0, 0, 0, 0, 0, 0, 0, 0, 0, 0, 0, 0, 0, 0, 0, 0, 0, 0, 0, 0, 0, 0, 0, 0, 0, 0, 0, 0, 0, 0, 0, 0, 0, 0, 0, 0, 0, 0, 0, 0, 0, 0, 0, 0, 0, 0, 0, 0, 0, 0, 0, 0, 0, 0, 0, 0, 0, 0, 0, 0, 0, 0, 0, 0, 0, 0, 0, 0, 0, 0, 0, 0, 0, 0, 0, 0, 0, 0, 0, 0, 0, 0, 0, 0, 0, 0, 0, 0, 0, 0, 0, 0, 0, 0, 0, 0, 0, 0, 0, 0, 0, 0, 0, 0, 0, 0, 0, 0, 0, 0, 0, 0, 0, 0, 0, 0, 0, 0, 0, 0, 0, 0, 0, 0, 0, 0, 0, 0, 0, 0, 0, 0, 0, 0, 0, 0, 0, 0, 0, 0, 0, 0, 0, 0, 0, 0, 0, 0, 0, 0, 0, 0, 0, 0, 0, 0, 0, 0, 0, 0, 0, 0, 0, 0, 0, 0, 0, 0, 0, 0, 0, 0, 0, 0, 0, 0, 0, 0, 0, 0, 0, 0, 0, 0, 0, 0, 0, 0, 0, 0, 0, 0, 0, 0, 0, 0, 0, 0, 0, 0, 0, 0, 0, 0, 0, 0, 0, 0, 0, 0, 0, 0, 0, 0, 0, 0, 0, 0, 0, 0, 0, 0, 0, 0, 0, 0, 0, 0, 0, 0, 0, 0, 0, 0, 0, 0, 0, 0, 0, 0, 0, 0, 0, 0, 0, 0, 0, 0, 0, 0, 0, 0, 0, 0, 0, 0, 0, 0, 0, 0, 0, 0, 0, 0, 0, 0, 0, 0, 0, 0, 0, 0, 0, 0, 0, 0, 0, 0, 0, 0, 0, 0, 0, 0, 0, 0, 0, 0, 0, 0, 0, 0, 0, 0, 0, 0, 0, 0, 0, 0, 0, 0, 0, 0, 0, 0, 0, 0, 0, 0, 0, 0, 0, 0, 0, 0, 0, 0, 0, 0, 0, 0, 0, 0, 0, 0, 0, 0, 0, 0, 0, 0, 0, 0, 0, 0, 0, 0, 0, 0, 0, 0, 0, 0, 0, 0, 0, 0, 0, 0, 0, 0, 0, 0, 0, 0, 0, 0, 0, 0, 0, 0, 0, 0, 0, 0, 0, 0, 0, 0, 0, 0, 0, 0, 0, 0, 0, 0, 0, 0, 0, 0, 0, 0, 0, 0, 0, 0, 0, 0, 0, 0, 0, 0, 0, 0, 0, 0, 0, 0, 0, 0, 0, 0, 0, 0, 0, 0, 0, 0, 0, 0, 0, 0, 0, 0, 0, 0, 0, 0, 0, 0, 0, 0, 0, 0, 0, 0, 0, 0, 0, 0, 0, 0, 0, 0, 0, 0, 0, 0, 0, 0, 0, 0, 0, 0, 0, 0, 0, 0, 0, 0, 0, 0, 0, 0, 0, 0, 0, 0, 0, 0, 0, 0, 0, 0, 0, 0, 0, 0, 0, 0, 0, 0, 0, 0, 0, 0, 0, 0, 0, 0, 0, 0, 0, 0, 0, 0, 0, 0, 0, 0, 0, 0, 0, 0, 0, 0, 0, 0, 0, 0, 0, 0, 0, 0, 0, 0, 0, 0, 0, 0, 0, 0, 0, 0, 0, 0, 0, 0, 0, 0, 0, 0, 0, 0, 0, 0, 0, 0, 0, 0, 0, 0, 0, 0, 0, 0, 0, 0, 0, 0, 0, 0, 0, 0, 0, 0, 0, 0, 0, 0, 0, 0, 0, 0, 0, 0, 0, 0, 0, 0, 0, 0, 0, 0, 0, 0, 0, 0, 0, 0, 0, 0, 0, 0, 0, 0, 0, 0, 0, 0, 0, 0, 0, 0, 0, 0, 0, 0, 0, 0, 0, 0, 0, 0, 0, 0, 0, 0, 0, 0, 0, 0, 0, 0, 0, 0, 0, 0, 0, 0, 0, 0, 0, 0, 0, 0, 0, 0, 0, 0, 0, 0, 0, 0, 0, 0, 0, 0, 0, 0, 0, 0, 0, 0, 0, 0, 0, 0, 0, 0, 0, 0, 0, 0, 0, 0, 0, 0, 0, 0, 0, 0, 0, 0, 0, 0, 0, 0, 0, 0, 0, 0, 0, 0, 0, 0, 0, 0, 0, 0, 0, 0, 0, 0, 0, 0, 0, 0, 0, 0, 0, 0, 0, 0, 0, 0, 0, 0, 0, 0, 0, 0, 0, 0, 0, 0, 0, 0, 0, 0, 0, 0, 0, 0, 0, 0, 0, 0, 0, 0, 0, 0, 0, 0, 0, 0, 0, 0, 0, 0, 0, 0, 0, 0, 0, 0, 0, 0, 0, 0, 0, 0, 0, 0, 0, 0, 0, 0, 0, 0, 0, 0, 0, 0, 0, 0, 0, 0, 0, 0, 0, 0, 0, 0, 0, 0, 2, 0, 1, 0, 0, 0, 0, 0, 0, 0, 0, 0, 0, 0, 0, 0, 0, 0, 0, 0, 0, 0, 0, 0, 0, 0, 0, 0, 0, 0, 0, 0, 0, 0, 0, 0, 0, 0, 0, 0, 0, 0, 0, 0, 0, 0, 0, 0, 0, 0, 0, 0, 0, 0, 0, 0, 0, 0, 0, 0, 0, 0, 0, 0, 0, 0, 0, 0, 0, 0, 0, 0, 0, 0, 0, 0, 0, 0, 0, 0, 0, 0, 0, 0, 0, 0, 0, 0, 0, 0, 0, 0, 0, 0, 0, 0, 0, 0, 0, 0, 0, 0, 0, 0, 0, 0, 0, 0, 0, 0, 0, 0, 0, 0, 0, 0, 0, 0, 0, 0, 0, 0, 0, 0, 0, 0, 0, 0, 0, 0, 0, 0, 0, 0, 0, 0, 0, 0, 1, 0, 0, 0, 0, 0, 0, 0, 0, 0, 0, 0, 0, 0, 0, 0, 0, 0, 0, 0, 0, 0, 0, 0, 0, 0, 0, 0, 0, 0, 0, 0, 0, 0, 0, 0, 0, 0, 0, 0, 0, 0, 0, 0, 0, 0, 0, 0, 0, 0, 0, 0, 0, 0, 0, 0, 0, 0, 0, 0, 0, 0, 0, 0, 0, 0, 0, 0, 0, 0, 0, 0, 0, 0, 0, 0, 0, 0, 0, 0, 0, 0, 0, 0, 0, 0, 0, 0, 0, 0, 0, 0, 0, 0, 0, 0, 0, 0, 0, 0, 0, 0, 0, 0, 0, 0, 0, 0, 0, 0, 0, 0, 0, 0, 0, 0, 0, 0, 0, 0, 0, 0, 0, 0, 0, 0, 0, 0, 0, 0, 0, 0, 0, 0, 0, 0, 0, 0, 0, 0, 0, 0, 0, 0, 0, 0, 0, 0, 0, 0, 0, 0, 0, 0, 0, 0, 0, 0, 0, 0, 0, 0, 0, 0, 0, 0, 0, 0, 0, 0, 0, 0, 0, 0, 0, 0, 0, 0, 0, 0, 0, 0, 0, 0, 0, 0, 1, 1, 0, 0, 0, 0, 0, 0, 0, 0, 0, 0, 0, 0, 0, 0, 0, 0, 0, 0, 0, 0, 0, 0, 0, 0, 0, 0, 0, 0, 0, 0, 0, 0, 0, 0, 0, 0, 0, 0, 0, 0, 0, 0, 0, 0, 0, 0, 0, 0, 0, 0, 0, 0, 0, 0, 0, 0, 0, 0, 0, 0, 0, 0, 0, 0, 0, 0, 0, 0, 0, 0, 0, 0, 0, 0, 0, 0, 0, 0, 0, 0, 0, 0, 0, 0, 0, 0, 0, 0, 0, 0, 0, 0, 0, 0, 0, 0, 0, 0, 0, 0, 0, 0, 0, 0, 0, 0, 0, 0, 0, 0, 0, 0, 0, 0, 0, 0, 0, 0, 0, 0, 0, 0, 0, 0, 0, 0, 0, 0, 0, 0, 0, 0, 0, 0, 0, 0, 0, 0, 0, 0, 0, 0, 0, 0, 0, 0, 0, 0, 0, 0, 0, 0, 0, 0, 0, 0, 0, 0, 0, 0, 0, 0, 0, 0, 0, 0, 0, 0, 0, 0, 0, 0, 0, 0, 0, 0, 0, 0, 0, 0, 0, 0, 0, 0, 0, 0, 0, 0, 0, 0, 0, 0, 0, 0, 0, 0, 0, 0, 0, 0, 0, 0, 0, 0, 0, 0, 0, 0, 0, 0, 0, 0, 0, 0, 0, 0, 0, 0, 0, 0, 0, 0, 0, 0, 0, 0, 0, 0, 0, 0, 0, 0, 0, 0, 0, 0, 0, 0, 0, 0, 0, 0, 0, 0, 0, 0, 0, 0, 0, 0, 0, 0, 0, 0, 0, 0, 0, 0, 0, 0, 0, 0, 0, 0, 0, 0, 0, 0, 0, 0, 0, 0, 0, 0, 0, 0, 0, 0, 0, 0, 0, 0, 0, 0, 0, 0, 0, 0, 0, 0, 0, 0, 0, 0, 0, 0, 0, 0, 0, 0, 0, 0, 0, 0, 0, 0, 0, 0, 0, 0, 0, 0, 0, 0, 0, 0, 0, 0, 0, 0, 0, 0, 0, 0, 0, 0, 0, 0, 0, 0, 0, 0, 0, 0, 0, 0, 0, 0, 0, 0, 0, 0, 0, 0, 0, 0, 0, 0, 0, 0, 0, 0, 0, 0, 1, 0, 0, 0, 0, 0, 0, 0, 0, 0, 0, 0, 0, 0, 0, 0, 0, 0, 0, 0, 0, 0, 0, 0, 0, 0, 0, 0, 0, 0, 0, 0, 0, 0, 0, 0, 0, 0, 0, 0, 0, 0, 0, 0, 0, 0, 0, 0, 0, 0, 0, 0, 0, 0, 0, 0, 0, 0, 0, 0, 0, 0, 0, 0, 0, 0, 0, 0, 0, 0, 0, 0, 0, 0, 0, 0, 0, 0, 0, 0, 0, 0, 0, 0, 0, 0, 0, 0, 0, 0, 0, 0, 0, 0, 0, 0, 0, 0, 0, 0, 0, 0, 0, 0, 0, 0, 0, 0, 0, 0, 0, 0, 0, 0, 0, 0, 0, 0, 0, 0, 0, 0, 0, 0, 0, 0, 0, 0, 0, 0, 0, 0, 0, 0, 0, 0, 0, 0, 0, 0, 0, 0, 0, 0, 0, 0, 0, 0, 0, 0, 0, 0, 0, 0, 0, 0, 0, 0, 0, 0, 0, 0, 0, 0, 0, 0, 0, 0, 0, 0, 0, 0, 0, 0, 0, 0, 0, 0, 0, 0, 0, 0, 0, 0, 0, 0, 0, 0, 0, 0, 0, 0, 0, 0, 0, 0, 0, 0, 0, 0, 0, 0, 0, 0, 0, 0, 0, 0, 0, 0, 0, 0, 0, 0, 0, 0, 0, 0, 0, 0, 0, 0, 0, 0, 0, 0, 0, 0, 0, 0, 0, 0, 0, 0, 0, 0, 0, 0, 0, 0, 0, 0, 0, 0, 0, 0, 0, 0, 0, 0, 0, 0, 0, 0, 0, 0, 0, 0, 0, 0, 0, 0, 0, 0, 0, 0, 0, 0, 0, 0, 0, 0, 0, 0, 0, 0, 0, 0, 0, 0, 0, 0, 0, 0, 0, 0, 0, 0, 0, 0, 0, 0, 0, 1, 0, 0, 0, 0, 0, 0, 0, 0, 0, 0, 0, 0, 0, 0, 0, 0, 0, 0, 0, 0, 0, 0, 0, 0, 0, 0, 0, 0, 0, 0, 0, 0, 0, 0, 0, 0, 0, 0, 0, 0, 0, 0, 0, 0, 1, 0, 0, 0, 0, 0, 0, 0, 0, 0, 0, 0, 0, 0, 0, 0, 0, 0, 0, 0, 0, 0, 0, 0, 0, 0, 0, 0, 0, 0, 0, 0, 0, 0, 0, 0, 0, 0, 0, 0, 0, 0, 0, 0, 0, 0, 0, 0, 0, 0, 0, 0, 0, 0, 0, 0, 0, 0, 0, 0, 0, 0, 0, 0, 0, 0, 0, 0, 0, 0, 0, 0, 0, 0, 0, 0, 0, 0, 0, 0, 0, 0, 0, 0, 0, 0, 0, 0, 0, 0, 0, 0, 0, 0, 0, 0, 0, 0, 0, 0, 0, 0, 0, 0, 0, 0, 0, 0, 0, 0, 0, 0, 0, 0, 0, 0, 0, 0, 0, 0, 0, 0, 0, 0, 0, 0, 0, 0, 0, 0, 0, 0, 0, 0, 0, 0, 0, 0, 0, 0, 0, 0, 0, 0, 0, 0, 0, 0, 0, 0, 0, 0, 0, 0, 0, 0, 0, 0, 0, 0, 0, 0, 0, 0, 0, 0, 0, 0, 0, 0, 0, 0, 0, 0, 0, 0, 0, 0, 0, 0, 0, 0, 0, 0, 0, 0, 0, 0, 0, 0, 0, 0, 0, 0, 0, 0, 0, 0, 0, 0, 0, 0, 0, 0, 0, 0, 0, 0, 0, 0, 0, 0, 0, 0, 0, 0, 0, 0, 0, 0, 0, 0, 0, 0, 0, 0, 0, 0, 0, 0, 0, 0, 0, 0, 0, 0, 0, 0, 0, 0, 0, 0, 0, 0, 0, 0, 0, 0, 0, 0, 0, 0, 1, 0, 0, 0, 0, 0, 0, 0, 0, 0, 0, 0, 0, 0, 0, 0, 0, 0, 0, 0, 0, 0, 0, 0, 0, 0, 0, 0, 0, 0, 0, 0, 0, 0, 0, 0, 0, 1, 0, 0, 0, 0, 0, 0, 0, 0, 0, 0, 0, 0, 0, 0, 0, 0, 0, 0, 0, 0, 0, 0, 0, 0, 0, 0, 0, 0, 0, 0, 0, 0, 0, 0, 0, 0, 0, 0, 0, 0, 0, 0, 0, 0, 0, 0, 0, 0, 0, 0, 0, 0, 0, 0, 0, 0, 0, 0, 0, 0, 0, 0, 0, 0, 0, 0, 0, 0, 0, 0, 0, 0, 0, 0, 0, 0, 0, 0, 0, 0, 0, 0, 0, 0, 0, 0, 0, 0, 0, 0, 0, 0, 0, 0, 0, 0, 0, 0, 0, 0, 0, 0, 0, 0, 0, 0, 0, 0, 0, 0, 0, 0, 0, 0, 0, 0, 0, 0, 0, 0, 0, 0, 0, 0, 0, 0, 0, 0, 0, 0, 0, 0, 0, 0, 0, 0, 0, 0, 0, 0, 0, 0, 0, 0, 0, 0, 0, 0, 0, 0, 0, 0, 0, 0, 0, 0, 0, 0, 0, 0, 0, 0, 0, 0, 0, 0, 0, 0, 0, 0, 0, 0, 0, 0, 0, 0, 0, 0, 0, 0, 0, 0, 0, 0, 0, 0, 0, 0, 0, 0, 0, 0, 0, 0, 0, 0, 0, 0, 0, 0, 0, 0, 0, 0, 0, 0, 0, 0, 0, 0, 0, 0, 0, 0, 0, 0, 0, 0, 0, 0, 0, 0, 0, 0, 0, 0, 0, 0, 0, 0, 0, 0, 0, 0, 0, 0, 0, 0, 0, 0, 0, 0, 0, 0, 0, 0, 0, 0, 0, 0, 0, 0, 0, 0, 0, 0, 0, 0, 0, 0, 0, 0, 0, 1, 0, 0, 0, 0, 0, 0, 0, 0, 0, 0, 0, 0, 0, 0, 0, 0, 0, 0, 0, 0, 0, 0, 0, 0, 0, 0, 0, 0, 0, 0, 0, 0, 0, 0, 0, 0, 0, 0, 0, 0, 0, 0, 0, 0, 0, 0, 0, 0, 0, 0, 0, 0, 0, 0, 0, 0, 0, 0, 0, 1, 0, 0, 0, 0, 0, 0, 0, 0, 0, 0, 0, 0, 0, 0, 0, 0, 0, 0, 0, 0, 0, 0, 0, 0, 0, 0, 0, 0, 0, 0, 0, 0, 0, 0, 0, 0, 0, 0, 0, 0, 0, 0, 0, 0, 0, 0, 0, 0, 0, 0, 0, 0, 0, 0, 0, 0, 0, 0, 0, 0, 0, 0, 0, 0, 0, 0, 0, 0, 0, 0, 0, 0, 0, 0, 0, 0, 0, 0, 0, 0, 0, 0, 0, 0, 0, 0, 0, 0, 0, 0, 0, 0, 0, 0, 0, 0, 0, 0, 0, 0, 0, 0, 0, 0, 0, 0, 0, 0, 0, 0, 0, 0, 0, 0, 0, 0, 0, 0, 0, 0, 0, 0, 0, 0, 0, 0, 0, 0, 0, 0, 0, 0, 0, 0, 0, 0, 0, 0, 0, 0, 0, 0, 0, 0, 0, 0, 0, 0, 0, 0, 0, 0, 0, 0, 0, 0, 0, 0, 0, 0, 0, 0, 0, 0, 0, 0, 0, 0, 0, 0, 0, 0, 0, 0, 0, 0, 0, 0, 0, 0, 1, 0, 0, 0, 0, 0, 0, 0, 0, 0, 0, 0, 0, 0, 0, 0, 0, 0, 0, 0, 0, 0, 0, 0, 0, 0, 0, 0, 0, 0, 0, 0, 0, 0, 0, 0, 0, 0, 0, 0, 0, 0, 0, 0, 1, 0, 0, 0, 0, 0, 0, 0, 0, 0, 0, 0, 0, 0, 0, 0, 0, 0, 0, 0, 0, 0, 0, 0, 0, 0, 0, 0, 0, 0, 0, 0, 0, 0, 0, 0, 0, 0, 0, 0, 0, 0, 0, 0, 0, 0, 0, 0, 0, 0, 0, 0, 0, 0, 0, 0, 0, 0, 0, 0, 0, 0, 0, 0, 0, 0, 0, 0, 0, 0, 0, 0, 0, 0, 0, 0, 0, 0, 0, 0, 0, 0, 0, 0, 0, 0, 0, 0, 0, 0, 0, 0, 0, 0, 0, 0, 1, 0, 1, 0, 0, 0, 0, 0, 0, 0, 0, 0, 0, 0, 1, 0, 0, 0, 0, 0, 0, 0, 0, 0, 0, 0, 0, 0, 0, 0, 0, 0, 0, 0, 0, 0, 0, 0, 0, 0, 0, 0, 0, 0, 0, 0, 0, 0, 0, 0, 0, 0, 0, 0, 0, 0, 0, 0, 0, 0, 0, 0, 0, 0, 0, 0, 0, 0, 0, 0, 0, 0, 0, 0, 0, 0, 0, 0, 0, 0, 0, 0, 0, 0, 0, 0, 0, 0, 0, 0, 0, 0, 0, 0, 0, 0, 0, 0, 0, 0, 0, 0, 0, 0, 0, 0, 0, 0, 0, 0, 0, 0, 0, 0, 0, 0, 0, 1, 0, 0, 0, 0, 0, 0, 0, 0, 0, 0, 0, 0, 0, 0, 0, 0, 0, 0, 0, 0, 0, 0, 0, 0, 0, 0, 0, 0, 0, 0, 1, 0, 0, 0, 0, 0, 0, 0, 0, 0, 0, 0, 0, 0, 0, 0, 0, 0, 0, 0, 0, 0, 0, 0, 0, 0, 0, 0, 0, 0, 0, 0, 0, 0, 0, 0, 0, 0, 0, 0, 0, 0, 0, 0, 0, 0, 0, 0, 0, 0, 0, 0, 0, 0, 0, 0, 0, 0, 0, 0, 0, 0, 0, 0, 0, 0, 0, 0, 0, 0, 0, 0, 0, 0, 0, 0, 0, 0, 0, 0, 0, 0, 0, 0, 0, 0, 0, 0, 0, 0, 0, 0, 0, 0, 0, 0, 0, 0, 0, 0, 0, 0, 0, 0, 0, 0, 0, 0, 0, 0, 0, 0, 0, 0, 0, 0, 0, 0, 0, 0, 0, 0, 0, 0, 0, 0, 0, 0, 0, 0, 0, 0, 0, 0, 0, 0, 0, 0, 0, 0, 0, 0, 0, 0, 0, 0, 0, 0, 0, 0, 0, 0, 0, 0, 0, 0, 0, 0, 0, 0, 0, 0, 0, 0, 0, 0, 0, 0, 0, 0, 0, 0, 0, 0, 0, 0, 0, 0, 0, 0, 0]]\n",
      "[2, 1, 1, 0, 0, 1, 0, 0, 0, 0, 1, 0, 0, 0, 1, 2, 1, 0, 0, 1, 2, 2, 0, 1, 0, 0, 0, 0, 0, 0, 0, 0, 0, 0, 9, 0, 0, 0, 0, 0, 0, 0, 0, 0, 0, 0, 0, 0, 0, 0, 0, 0, 0, 0, 0, 0, 0, 0, 0, 0, 0, 0, 0, 0, 1, 0, 0, 0, 0, 0, 0, 0, 0, 0, 0, 0, 0, 0, 0, 1, 1, 0, 1, 4, 1, 10, 2, 2, 0, 3, 3, 1, 4, 0, 1, 1, 1, 2, 1, 2, 0, 2, 4, 1, 0, 2, 2, 0, 2, 1, 1, 5, 2, 4, 5, 4, 2, 4, 0, 1, 3, 1, 0, 0, 4, 0, 1, 6, 3, 0, 0, 0, 1, 1, 0, 1, 0, 2, 1, 3, 1, 1, 1, 0, 1, 5, 0, 2, 0, 1, 1, 1, 1, 1, 0, 0, 2, 0, 0, 1, 0, 0, 1, 0, 1, 1, 1, 1, 0, 0, 1, 0, 1, 1, 0, 1, 0, 1, 1, 1, 0, 0, 1, 0, 1, 0, 1, 0, 0, 1, 0, 0, 0, 2, 0, 2, 1, 1, 1, 1, 1, 0, 0, 0, 0, 0, 0, 1, 0, 11, 0, 0, 0, 0, 0, 0, 1, 1, 0, 0, 0, 0, 2, 0, 0, 0, 1, 2, 0, 0, 0, 0, 0, 0, 1, 0, 0, 0, 0, 0, 0, 0, 0, 0, 3, 0, 0, 1, 0, 0, 0, 0, 0, 0, 1, 3, 0, 1, 1, 0, 1, 0, 1, 0, 0, 0, 0, 0, 2, 0, 0, 2, 0, 0, 0, 0, 1, 0, 1, 0, 1, 1, 1, 0, 0, 1, 0, 1, 1, 0, 2, 0, 1, 0, 0, 0, 1, 0, 0, 0, 0, 0, 0, 0, 0, 0, 0, 1, 1, 0, 0, 0, 0, 0, 0, 0, 0, 0, 0, 1, 0, 0, 0, 0, 0, 0, 2, 0, 0, 0, 0, 0, 0, 1, 0, 0, 3, 0, 0, 0, 0, 0, 0, 1, 0, 0, 0, 0, 0, 0, 0, 0, 0, 0, 0, 0, 0, 1, 0, 0, 2, 0, 1, 0, 0, 0, 0, 0, 0, 0, 0, 1, 0, 0, 0, 0, 0, 0, 0, 0, 1, 0, 2, 0, 0, 0, 1, 0, 0, 1, 0, 0, 0, 0, 0, 0, 0, 0, 0, 2, 0, 1, 2, 8, 1, 0, 0, 5, 2, 1, 0, 1, 0, 0, 0, 0, 0, 1, 0, 1, 0, 0, 1, 1, 1, 1, 0, 2, 6, 6, 3, 1, 1, 0, 0, 2, 0, 0, 0, 0, 0, 0, 2, 0, 7, 1, 0, 0, 1, 1, 1, 1, 0, 0, 0, 0, 0, 0, 0, 0, 0, 1, 1, 0, 1, 0, 0, 0, 0, 7, 0, 0, 0, 0, 3, 0, 0, 1, 0, 0, 1, 1, 1, 0, 0, 0, 0, 0, 0, 0, 0, 2, 1, 0, 0, 0, 0, 0, 0, 0, 0, 0, 4, 2, 0, 0, 0, 0, 0, 0, 0, 0, 0, 2, 1, 0, 1, 0, 0, 0, 1, 1, 0, 1, 1, 0, 9, 0, 3, 0, 0, 0, 0, 0, 0, 2, 0, 0, 2, 1, 1, 0, 0, 2, 1, 1, 0, 0, 0, 0, 0, 0, 0, 0, 0, 0, 0, 1, 0, 0, 1, 2, 3, 0, 1, 0, 2, 0, 1, 0, 1, 0, 3, 0, 0, 0, 0, 0, 0, 0, 0, 0, 1, 0, 0, 0, 2, 0, 1, 0, 0, 1, 0, 0, 1, 1, 4, 0, 0, 0, 1, 2, 0, 0, 1, 0, 0, 0, 1, 0, 0, 0, 0, 0, 0, 0, 0, 0, 0, 0, 0, 0, 0, 0, 2, 0, 0, 1, 1, 0, 2, 0, 0, 0, 1, 9, 0, 1, 0, 0, 1, 0, 1, 0, 0, 0, 0, 1, 1, 0, 0, 0, 0, 1, 0, 0, 0, 0, 0, 0, 1, 0, 8, 1, 5, 1, 0, 3, 0, 0, 0, 0, 0, 0, 0, 0, 0, 1, 0, 0, 0, 0, 3, 0, 0, 0, 0, 0, 0, 1, 0, 2, 1, 0, 0, 1, 1, 0, 0, 1, 1, 0, 0, 0, 1, 0, 0, 0, 0, 4, 2, 0, 1, 1, 0, 0, 0, 1, 0, 0, 0, 1, 0, 1, 0, 0, 6, 0, 1, 0, 1, 0, 0, 0, 0, 0, 0, 0, 1, 0, 0, 1, 1, 0, 0, 0, 0, 0, 0, 0, 1, 1, 0, 1, 0, 0, 2, 1, 0, 0, 0, 4, 1, 4, 1, 0, 0, 0, 9, 1, 0, 1, 1, 0, 0, 0, 7, 1, 1, 1, 1, 0, 1, 1, 1, 1, 1, 0, 0, 0, 1, 1, 0, 0, 0, 1, 0, 0, 0, 0, 1, 3, 1, 0, 0, 0, 0, 0, 0, 0, 0, 0, 0, 0, 0, 1, 0, 2, 0, 1, 10, 0, 10, 0, 0, 0, 0, 0, 1, 0, 0, 0, 0, 0, 0, 1, 1, 0, 1, 0, 2, 0, 0, 0, 1, 1, 0, 0, 0, 2, 1, 0, 0, 0, 6, 1, 0, 0, 0, 0, 0, 1, 0, 0, 2, 0, 0, 1, 1, 0, 0, 0, 0, 0, 0, 0, 0, 0, 0, 0, 0, 0, 1, 0, 0, 0, 0, 0, 0, 0, 0, 0, 1, 0, 1, 1, 1, 0, 0, 0, 1, 0, 0, 0, 0, 0, 0, 0, 2, 0, 0, 1, 0, 1, 0, 0, 1, 0, 1, 0, 0, 0, 0, 0, 0, 1, 2, 0, 0, 0, 0, 0, 0, 2, 0, 1, 0, 3, 0, 0, 0, 0, 0, 0, 2, 0, 17, 1, 2, 0, 0, 0, 1, 3, 0, 0, 1, 0, 1, 2, 2, 0, 0, 0, 0, 1, 1, 4, 0, 0, 0, 0, 0, 0, 1, 0, 0, 0, 0, 0, 0, 0, 1, 1, 1, 0, 0, 1, 0, 0, 0, 0, 0, 1, 0, 0, 0, 0, 0, 0, 0, 0, 0, 0, 0, 1, 2, 0, 0, 1, 0, 0, 0, 0, 0, 0, 0, 0, 1, 1, 0, 0, 0, 0, 1, 0, 1, 0, 0, 1, 0, 0, 0, 0, 0, 0, 0, 1, 0, 0, 2, 0, 0, 0, 0, 0, 0, 0, 1, 0, 0, 0, 0, 0, 0, 2, 0, 1, 0, 0, 0, 0, 0, 0, 0, 1, 0, 0, 0, 0, 0, 0, 0, 0, 1, 0, 0, 0, 0, 1, 0, 0, 1, 0, 0, 0, 0, 0, 1, 0, 0, 1, 0, 1, 0, 0, 0, 2, 0, 0, 1, 0, 0, 0, 0, 0, 0, 0, 0, 0, 0, 0, 0, 1, 0, 2, 1, 0, 1, 0, 0, 0, 0, 1, 1, 1, 1, 3, 6, 0, 0, 0, 1, 0, 1, 1, 0, 0, 0, 0, 0, 0, 0, 0, 1, 0, 0, 0, 0, 0, 0, 0, 0, 0, 0, 1, 2, 0, 0, 1, 1, 0, 0, 0, 0, 1, 3, 1, 0, 0, 1, 0, 0, 0, 0, 0, 0, 0, 2, 0, 2, 1, 1, 0, 0, 1, 1, 0, 0, 1, 0, 0, 0, 0, 11, 5, 3, 2, 35, 6, 1, 1, 1, 0, 2, 0, 1, 3, 1, 0, 0, 0, 5, 0, 2, 1, 1, 0, 0, 1, 1, 1, 0, 0, 0, 0, 0, 0, 0, 0, 0, 0, 0, 0, 0, 0, 0, 0, 0, 1, 0, 0, 0, 0, 0, 0, 0, 0, 0, 0, 0, 0, 0, 0, 1, 0, 0, 0, 0, 0, 1, 0, 0, 0, 0, 2, 0, 1, 0, 0, 0, 0, 2, 0, 0, 0, 1, 0, 1, 0, 0, 0, 0, 0, 0, 0, 0, 1, 2, 0, 1, 0, 0, 0, 1, 1, 1, 2, 0, 0, 0, 1, 0, 0, 1, 0, 1, 0, 0, 0, 0, 0, 1, 0, 1, 2, 2, 0, 0, 4, 0, 0, 2, 0, 0, 0, 0, 2, 2, 1, 2, 1, 0, 0, 0, 0, 1, 0, 0, 0, 0, 0, 0, 0, 1, 0, 0, 0, 0, 0, 0, 0, 0, 0, 0, 0, 0, 1, 1, 0, 0, 2, 0, 0, 1, 1, 0, 0, 0, 0, 1, 1, 0, 0, 0, 0, 0, 0, 0, 0, 0, 0, 2, 1, 0, 0, 0, 0, 1, 2, 0, 0, 1, 1, 0, 5, 0, 4, 2, 3, 0, 1, 0, 0, 0, 0, 0, 0, 0, 4, 0, 0, 0, 0, 1, 0, 1, 0, 0, 0, 0, 2, 0, 0, 0, 2, 1, 0, 0, 1, 0, 0, 0, 0, 0, 0, 0, 1, 0, 0, 0, 1, 1, 0, 1, 3, 1, 0, 0, 0, 0, 0, 0, 0, 0, 1, 0, 0, 0, 0, 0, 0, 1, 1, 0, 6, 0, 1, 1, 0, 0, 1, 0, 0, 0, 0, 2, 1, 4, 2, 0, 0, 0, 0, 0, 0, 0, 0, 1, 0, 1, 1, 0, 1, 0, 0, 1, 0, 0, 0, 0, 0, 0, 0, 0, 0, 0, 0, 0, 0, 0, 1, 0, 1, 0, 0, 1, 0, 0, 0, 0, 0, 0, 0, 1, 0, 0, 0, 0, 0, 0, 0, 0, 1, 1, 0, 0, 0, 0, 1, 0, 0, 0, 0, 0, 0, 0, 0, 0, 0, 0, 0, 0, 1, 1, 0, 3, 1, 2, 1, 0, 0, 0, 0, 0, 0, 0, 0, 0, 0, 0, 0, 0, 0, 0, 0, 1, 0, 1, 0, 0, 0, 2, 0, 0, 0, 1, 0, 0, 0, 0, 0, 1, 0, 0, 0, 0, 0, 0, 1, 0, 0, 0, 0, 0, 0, 0, 0, 0, 0, 0, 0, 0, 0, 0, 0, 0, 0, 1, 2, 1, 1, 1, 0, 1, 2, 0, 0, 0, 1, 0, 0, 0, 0, 0, 2, 2, 0, 0, 0, 1, 0, 0, 1, 0, 0, 0, 1, 0, 0, 0, 2, 0, 0, 2, 0, 0, 0, 1, 0, 0, 0, 1, 0, 0, 1, 0, 0, 0, 0, 0, 0, 0, 0, 1, 0, 0, 0, 0, 0, 0, 0, 0, 0, 0, 0, 0, 0, 0, 0, 0, 1, 0, 0, 1, 0, 0, 0, 0, 1, 0, 0, 0, 0, 1, 0, 0, 0, 0, 0, 0, 2, 0, 0, 1, 0, 0, 1, 0, 0, 1, 0, 1, 0, 0, 1, 0, 1, 0, 0, 0, 0, 0, 3, 1, 1, 1, 0, 1, 5, 0, 0, 0, 1, 0, 0, 0, 0, 3, 0, 2, 0, 2, 0, 7, 1, 2, 2, 1, 0, 0, 1, 0, 1, 0, 0, 0, 2, 0, 1, 0, 0, 2, 1, 1, 0, 0, 0, 0, 0, 0, 0, 0, 1, 0, 0, 0, 0, 3, 5, 0, 1, 0, 1, 1, 0, 0, 0, 0, 1, 0, 0, 0, 0, 0, 0, 1, 0, 0, 0, 0, 0, 0, 0, 0, 5, 0, 1, 1, 0, 0, 0, 0, 0, 3, 1, 10, 1, 1, 0, 1, 0, 0, 1, 0, 1, 0, 2, 0, 0, 0, 0, 2, 0, 0, 0, 0, 0, 0, 0, 0, 0, 0, 0, 0, 2, 0, 0, 0, 2, 0, 0, 0, 1, 2, 0, 1, 0, 0, 0, 0, 1, 0, 0, 3, 0, 0, 0, 1, 1, 0, 4, 1, 0, 2, 2, 0, 0, 0, 0, 0, 0, 0, 0, 0, 0, 0, 1, 1, 1, 1, 0, 7, 0, 0, 0, 0, 11, 8, 172, 1, 1, 0, 2, 0, 0, 0, 0, 0, 1, 0, 0, 0, 0, 1, 2, 0, 0, 0, 0, 0, 2, 0, 0, 0, 1, 0, 2, 0, 0, 0, 0, 0, 0, 0, 0, 5, 4, 0, 1, 0, 0, 1, 0, 2, 0, 0, 1, 0, 0, 1, 0, 3, 3, 0, 0, 0, 1, 1, 0, 4, 1, 0, 1, 4, 1, 0, 0, 5, 0, 0, 0, 0, 0, 0, 0, 0, 0, 0, 1, 3, 0, 1, 2, 0, 1, 0, 0, 1, 0, 1, 1, 0, 0, 0, 1, 1, 2, 0, 0, 0, 2, 0, 1, 0, 0, 0, 0, 0, 0, 1, 0, 0, 1, 0, 1, 0, 0, 0, 0, 0, 0, 1, 0, 0, 1, 0, 0, 0, 1, 0, 0, 0, 3, 0, 0, 0, 0, 0, 1, 0, 0, 0, 0, 0, 0, 0, 0, 0, 0, 0, 1, 1, 1, 0, 2, 0, 1, 1, 0, 0, 1, 0, 0, 0, 1, 1, 0, 1, 1, 0, 1, 0, 1, 0, 0, 0, 0, 0, 2, 1, 1, 1, 0, 0, 1, 0, 0, 1, 0, 0, 0, 0, 0, 0, 1, 0, 0, 0, 0, 0, 0, 0, 0, 0, 0, 1, 0, 1, 1, 0, 0, 5, 1, 1, 0, 0, 0, 1, 0, 0, 1, 0, 1, 0, 0, 5, 1, 0, 0, 0, 1, 0, 0, 0, 0, 0, 0, 0, 1, 0, 1, 1, 0, 6, 1, 1, 0, 0, 1, 1, 1, 3, 0, 0, 1, 2, 0, 0, 0, 1, 1, 0, 0, 0, 0, 0, 0, 0, 0, 0, 0, 0, 0, 1, 0, 0, 0, 0, 0, 0, 1, 0, 0, 0, 0, 0, 0, 0, 1, 1, 1, 1, 0, 0, 1, 1, 0, 0, 0, 0, 0, 0, 0, 0, 1, 0, 2, 0, 0, 0, 0, 1, 0, 0, 0, 0, 0, 2, 0, 0, 0, 0, 0, 0, 2, 0, 1, 7, 0, 0, 1, 0, 0, 0, 0, 0, 1, 0, 0, 8, 0, 0, 0, 0, 0, 0, 1, 0, 0, 0, 0, 1, 1, 0, 0, 0, 0, 0, 0, 0, 0, 0, 0, 0, 1, 0, 0, 0, 0, 0, 0, 0, 0, 0, 0, 1, 0, 0, 0, 0, 1, 0, 0, 0, 2, 0, 1, 0, 0, 0, 0, 0, 0, 0, 0, 0, 0, 0, 0, 1, 0, 1, 0, 0, 1, 2, 0, 0, 1, 0, 0, 2, 2, 0, 0, 0, 1, 1, 1, 0, 0, 0, 0, 0, 0, 0, 0, 0, 0, 2, 0, 0, 0, 0, 0, 1, 1, 0, 1, 0, 0, 0, 0, 0, 0, 0, 0, 0, 0, 0, 0, 0, 3, 1, 1, 0, 2, 0, 0, 0, 11, 0, 0, 3, 0, 1, 0, 4, 0, 0, 0, 1, 1, 4, 2, 0, 0, 0, 0, 0, 0, 0, 14, 1, 0, 0, 1, 1, 1, 0, 0, 1, 0, 0, 5, 1, 71, 1, 0, 1, 1, 1, 0, 0, 0, 0, 0, 4, 0, 0, 0, 0, 14, 0, 1, 1, 0, 0, 0, 0, 1, 0, 1, 0, 0, 0, 0, 0, 0, 0, 0, 1, 1, 3, 0, 0, 0, 1, 0, 1, 3, 1, 3, 0, 1, 0, 0, 4, 0, 0, 1, 0, 0, 0, 1, 0, 0, 0, 0, 0, 0, 0, 0, 0, 1, 0, 0, 2, 1, 0, 1, 0, 1, 0, 0, 0, 1, 0, 0, 3, 1, 0, 0, 0, 6, 1, 1, 0, 2, 2, 0, 0, 1, 3, 1, 0, 0, 0, 1, 0, 0, 0, 0, 0, 0, 0, 0, 0, 1, 0, 1, 3, 0, 0, 0, 0, 0, 1, 0, 2, 0, 2, 0, 1, 0, 0, 0, 0, 1, 0, 0, 0, 0, 2, 2, 0, 0, 1, 0, 0, 0, 0, 6, 0, 0, 0, 1, 1, 0, 0, 0, 1, 1, 0, 1, 1, 0, 0, 1, 0, 0, 0, 0, 3, 2, 2, 11, 0, 1, 1, 1, 1, 1, 1, 1, 0, 2, 0, 0, 1, 2, 7, 1, 1, 0, 3, 0, 1, 0, 0, 0, 1, 0, 0, 0, 3, 1, 1, 3, 1, 0, 0, 0, 0, 0, 0, 0, 0, 1, 1, 5, 1, 0, 0, 0, 0, 0, 0, 0, 0, 0, 0, 1, 4, 2, 0, 0, 0, 0, 0, 3, 0, 2, 2, 0, 0, 0, 0, 0, 1, 3, 1, 1, 1, 0, 0, 0, 0, 0, 1, 0, 0, 0, 1, 0, 0, 0, 0, 0, 4, 0, 0, 2, 0, 0, 2, 1, 0, 1, 0, 0, 0, 0, 0, 1, 0, 0, 0, 0, 0, 0, 1, 0, 0, 1, 1, 0, 0, 0, 0, 0, 0, 0, 0, 0, 0, 0, 0, 0, 0, 2, 0, 1, 1, 0, 1, 0, 0, 0, 0, 0, 0, 1, 0, 0, 0, 0, 5, 0, 0, 1, 0, 1, 0, 0, 0, 0, 0, 0, 1, 2, 7, 2, 1, 0, 0, 0, 0, 0, 0, 2, 0, 0, 0, 0, 0, 0, 0, 0, 0, 0, 1, 1, 1, 0, 0, 0, 0, 0, 0, 0, 0, 1, 0, 0, 1, 0, 0, 4, 0, 0, 0, 0, 1, 0, 0, 0, 0, 0, 1, 0, 0, 2, 0, 0, 1, 0, 0, 0, 0, 0, 0, 1, 0, 0, 0, 0, 0, 0, 2, 0, 0, 0, 0, 0, 0, 0, 0, 0, 0, 0, 0, 0, 0, 2, 0, 1, 1, 1, 0, 0, 1, 0, 0, 0, 1, 0, 3, 1, 0, 0, 0, 0, 0, 1, 0, 0, 0, 3, 2, 0, 1, 1, 0, 0, 0, 0, 1, 0, 4, 0, 0, 0, 1, 1, 0, 0, 1, 3, 3, 0, 0, 0, 0, 1, 0, 0, 0, 1, 0, 0, 1, 0, 0, 0, 0, 0, 0, 4, 0, 0, 3, 0, 0, 1, 0, 0, 0, 1, 0, 0, 0, 0, 0, 0, 0, 3, 1, 0, 0, 0, 0, 0, 0, 1, 1, 1, 1, 1, 0, 0, 0, 0, 0, 1, 0, 0, 0, 0, 7, 0, 1, 0, 1, 1, 7, 0, 1, 0, 1, 4, 1, 1, 1, 0, 0, 0, 1, 0, 0, 0, 0, 1, 0, 1, 0, 0, 0, 1, 0, 1, 1, 1, 0, 0, 0, 0, 3, 0, 0, 0, 0, 0, 0, 0, 2, 0, 0, 0, 0, 0, 0, 2, 2, 0, 0, 0, 1, 2, 5, 2, 0, 0, 0, 0, 0, 1, 3, 27, 0, 0, 0, 0, 0, 0, 0, 0, 1, 1, 4, 0, 0, 1, 0, 3, 1, 0, 0, 0, 1, 0, 3, 0, 1, 0, 0, 0, 0, 1, 0, 1, 0, 2, 1, 0, 0, 0, 0, 0, 0, 0, 0, 0, 0, 0, 0, 0, 0, 0, 0, 0, 0, 0, 1, 1, 1, 1, 0, 0, 0, 0, 0, 1, 5, 4, 3, 0, 0, 0, 0, 0, 0, 0, 1, 0, 0, 0, 0, 0, 0, 1, 0, 0, 0, 0, 0, 0, 0, 0, 0, 0, 0, 0, 1, 3, 0, 0, 0, 0, 2, 0, 0, 0, 1, 5, 1, 0, 0, 1, 0, 0, 0, 0, 0, 1, 4, 1, 0, 0, 0, 0, 0, 0, 3, 1, 0, 0, 0, 0, 0, 0, 0, 1, 1, 0, 1, 1, 0, 0, 0, 0, 0, 0, 0, 0, 0, 12, 1, 0, 1, 1, 0, 0, 0, 0, 0, 0, 0, 4, 0, 0, 5, 1, 0, 0, 0, 0, 0, 0, 0, 0, 1, 0, 0, 0, 0, 0, 0, 1, 0, 1, 0, 0, 0, 1, 0, 1, 4, 0, 0, 5, 0, 0, 0, 0, 0, 0, 1, 0, 0, 0, 1, 1, 1, 0, 0, 0, 0, 1, 0, 2, 1, 1, 1, 1, 0, 0, 0, 0, 2, 1, 1, 1, 0, 0, 1, 0, 1, 0, 0, 0, 0, 0, 0, 0, 0, 0, 0, 0, 0, 0, 1, 0, 0, 1, 0, 0, 2, 0, 0, 0, 2, 0, 0, 0, 1, 0, 1, 1, 0, 0, 0, 1, 0, 3, 1, 3, 1, 0, 0, 0, 1, 3, 0, 0, 0, 0, 0, 0, 1, 0, 0, 0, 0, 0, 0, 0, 0, 1, 0, 0, 0, 0, 1, 0, 0, 0, 0, 0, 0, 0, 0, 1, 0, 0, 0, 0, 1, 0, 0, 0, 0, 0, 0, 0, 0, 0, 0, 0, 0, 2, 0, 0, 1, 0, 1, 1, 1, 0, 0, 0, 5, 0, 1, 1, 1, 0, 0, 1, 0, 1, 0, 1, 0, 1, 0, 3, 0, 0, 0, 0, 0, 1, 0, 0, 0, 0, 0, 0, 0, 0, 0, 0, 0, 0, 0, 0, 1, 0, 1, 0, 1, 3, 0, 0, 0, 0, 0, 0, 1, 0, 1, 0, 0, 1, 0, 0, 0, 0, 0, 0, 0, 0, 0, 0, 1, 0, 0, 0, 1, 0, 0, 0, 0, 0, 0, 0, 0, 0, 0, 0, 0, 0, 0, 1, 0, 0, 0, 0, 0, 0, 0, 0, 1, 0, 0, 0, 0, 0, 1, 1, 3, 1, 0, 1, 3, 0, 1, 0, 0, 0, 1, 1, 2, 0, 0, 1, 0, 0, 0, 1, 1, 0, 0, 0, 0, 0, 0, 0, 0, 1, 0, 0, 0, 3, 1, 0, 1, 0, 0, 0, 0, 0, 0, 1, 0, 1, 0, 3, 1, 1, 1, 1, 0, 0, 0, 0, 0, 3, 0, 0, 0, 0, 0, 1, 0, 0, 0, 0, 1, 0, 1, 0, 5, 1, 3, 1, 4, 1, 1, 0, 0, 0, 2, 0, 0, 0, 0, 0, 0, 0, 0, 0, 0, 0, 2, 0, 1, 0, 1, 0, 1, 0, 0, 0, 0, 0, 0, 0, 1, 0, 1, 0, 0, 0, 0, 0, 0, 5, 0, 0, 0, 0, 0, 1, 0, 1, 1, 0, 0, 0, 0, 0, 0, 1, 1, 1, 0, 0, 1, 0, 0, 0, 0, 0, 0, 0, 0, 0, 0, 1, 0, 0, 0, 0, 0, 0, 0, 0, 0, 0, 1, 0, 0, 0, 2, 0, 0, 1, 0, 0, 0, 0, 9, 0, 0, 0, 0, 0, 3, 0, 0, 0, 1, 1, 1, 1, 0, 3, 0, 1, 0, 0, 0, 1, 0, 0, 0, 0, 0, 0, 0, 0, 1, 0, 0, 0, 0, 0, 0, 0, 0, 1, 0, 0, 0, 0, 0, 0, 0, 0, 0, 0, 0, 0, 0, 0, 0, 0, 0, 0, 0, 0, 0, 0, 0, 1, 0, 0, 0, 8, 1, 0, 0, 0, 1, 0, 1, 0, 0, 0, 1, 1, 1, 1, 0, 0, 1, 0, 0, 1, 1, 1, 0, 1, 0, 0, 0, 0, 1, 2, 0, 0, 0, 0, 0, 0, 0, 2, 7, 0, 0, 0, 0, 0, 0, 0, 0, 0, 0, 0, 0, 0, 0, 0, 0, 0, 1, 0, 0, 0, 1, 0, 0, 0, 0, 0, 1, 0, 0, 1, 0, 1, 0, 0, 0, 0, 1, 1, 0, 0, 0, 0, 0, 0, 1, 0, 0, 0, 0, 0, 0, 2, 0, 1, 0, 0, 0, 0, 0, 0, 1, 0, 1, 0, 1, 0, 0, 1, 0, 0, 0, 1, 1, 1, 1, 1, 1, 1, 1, 2, 2, 1, 0, 0, 0, 1, 1, 1, 0, 0, 0, 0, 0, 0, 0, 0, 2, 0, 0, 0, 0, 0, 0, 0, 0, 0, 0, 1, 0, 0, 0, 0, 1, 0, 0, 0, 0, 1, 1, 1, 1, 0, 1, 0, 0, 0, 0, 2, 0, 4, 1, 2, 0, 0, 0, 0, 1, 0, 0, 1, 0, 0, 0, 1, 0, 0, 0, 0, 0, 0, 0, 0, 0, 0, 0, 0, 0, 3, 1, 2, 0, 0, 0, 11, 0, 0, 1, 0, 1, 1, 2, 1, 1, 0, 0, 0, 0, 1, 0, 0, 0, 0, 0, 0, 0, 2, 0, 0, 0, 0, 1, 0, 0, 0, 0, 0, 0, 0, 1, 0, 0, 0, 0, 0, 0, 1, 1, 1, 0, 0, 0, 0, 1, 0, 0, 0, 1, 2, 0, 1, 1, 0, 0, 1, 1, 0, 0, 0, 0, 0, 1, 0, 0, 0, 1, 0, 0, 0, 1, 0, 0, 0, 0, 0, 0, 0, 0, 0, 0, 0, 0, 0, 3, 1, 1, 0, 0, 0, 1, 1, 0, 1, 0, 1, 0, 0, 3, 1, 0, 1, 0, 0, 0, 1, 1, 0, 1, 0, 1, 1, 1, 0, 0, 0, 0, 1, 0, 0, 0, 0, 0, 0, 0, 1, 0, 0, 2, 0, 0, 3, 0, 0, 0, 1, 1, 0, 2, 0, 0, 0, 0, 0, 0, 0, 1, 0, 1, 1, 0, 1, 1, 0, 1, 0, 0, 0, 0, 0, 0, 2, 0, 0, 0, 0, 0, 0, 0, 0, 1, 0, 3, 0, 0, 3, 0, 3, 1, 1, 0, 0, 0, 0, 1, 1, 0, 0, 2, 1, 2, 4, 0, 1, 1, 1, 0, 2, 0, 0, 0, 0, 0, 0, 2, 0, 0, 0, 0, 0, 0, 0, 0, 0, 0, 2, 1, 1, 1, 1, 4, 0, 0, 0, 1, 0, 0, 0, 0, 0, 0, 2, 1, 0, 0, 5, 0, 1, 1, 3, 1, 0, 1, 0, 1, 0, 0, 0, 0, 0, 0, 1, 0, 0, 0, 0, 0, 0, 0, 0, 0, 0, 1, 0, 0, 0, 1, 0, 0, 1, 0, 1, 0, 0, 0, 0, 1, 0, 0, 0, 4, 5, 3, 0, 0, 0, 0, 0, 0, 0, 0, 0, 0, 0, 0, 57, 29, 1, 0, 0, 0, 0, 0, 0, 0, 1, 0, 1, 0, 1, 0, 0, 1, 2, 1, 2, 1, 0, 1, 0, 0, 1, 0, 2, 1, 0, 0, 0, 0, 0, 0, 0, 1, 0, 5, 0, 0, 0, 0, 1, 0, 0, 0, 0, 0, 0, 1, 0, 1, 0, 1, 5, 0, 0, 0, 0, 0, 0, 0, 0, 0, 1, 1, 0, 1, 0, 0, 0, 0, 0, 0, 0, 0, 0, 0, 0, 0, 1, 0, 0, 0, 1, 0, 0, 0, 0, 0, 1, 0, 0, 6, 4, 1, 0, 0, 0, 1, 2, 1, 0, 0, 0, 1, 1, 1, 3, 0, 2, 0, 3, 1, 1, 1, 0, 0, 0, 0, 0, 0, 0, 0, 0, 1, 0, 0, 1, 0, 0, 0, 0, 0, 0, 0, 0, 0, 0, 0, 0, 0, 1, 1, 0, 0, 0, 6, 1, 0, 0, 0, 0, 1, 0, 0, 0, 0, 1, 0, 0, 0, 0, 1, 0, 0, 0, 0, 0, 0, 0, 1, 1, 2, 4, 3, 0, 0, 0, 0, 0, 0, 0, 0, 0, 0, 0, 0, 1, 2, 0, 0, 0, 1, 1, 0, 5, 2, 0, 0, 0, 0, 1, 1, 1, 0, 0, 0, 0, 2, 0, 0, 0, 9, 1, 0, 5, 0, 0, 1, 0, 1, 3, 0, 0, 0, 1, 1, 1, 0, 1, 0, 0, 2, 0, 1, 0, 0, 1, 0, 0, 0, 0, 0, 0, 4, 1, 1, 0, 0, 0, 1, 2, 0, 0, 1, 0, 0, 1, 0, 0, 0, 0, 0, 0, 0, 0, 0, 1, 0, 0, 1, 0, 0, 0, 0, 0, 0, 0, 0, 0, 0, 0, 2, 0, 0, 1, 0, 1, 1, 3, 2, 1, 1, 0, 2, 0, 0, 0, 0, 0, 1, 0, 0, 0, 0, 0, 1, 0, 2, 2, 1, 0, 0, 0, 0, 2, 1, 0, 1, 0, 0, 0, 0, 0, 1, 1, 1, 0, 0, 0, 0, 0, 1, 0, 0, 0, 0, 1, 0, 0, 3, 2, 0, 0, 0, 0, 0, 0, 0, 0, 0, 0, 0, 0, 0, 0, 0, 4, 5, 2, 0, 2, 0, 0, 0, 0, 0, 0, 0, 0, 1, 0, 0, 0, 0, 0, 0, 0, 1, 0, 0, 0, 0, 0, 3, 0, 0, 0, 0, 1, 0, 0, 1, 6, 0, 0, 0, 0, 0, 0, 1, 0, 0, 0, 1, 1, 0, 0, 0, 0, 0, 0, 1, 0, 0, 0, 0, 0, 0, 0, 1, 3, 2, 3, 3, 0, 0, 9, 0, 0, 0, 2, 0, 0, 0, 1, 0, 0, 0, 0, 0, 0, 0, 0, 1, 2, 0, 0, 0, 0, 0, 1, 3, 0, 0, 2, 0, 0, 0, 1, 1, 1, 1, 1, 1, 2, 2, 0, 0, 3, 1, 0, 1, 0, 2, 1, 1, 0, 0, 0, 0, 3, 0, 0, 0, 0, 0, 0, 0, 1, 0, 1, 0, 1, 8, 1, 9, 0, 1, 1, 0, 0, 0, 0, 0, 1, 0, 0, 1, 0, 0, 0, 0, 1, 0, 1, 0, 0, 0, 1, 1, 0, 2, 0, 1, 0, 1, 0, 0, 0, 0, 0, 1, 1, 0, 0, 1, 0, 0, 0, 1, 1, 0, 0, 0, 5, 0, 1, 0, 0, 9, 1, 0, 0, 2, 1, 0, 0, 0, 2, 1, 4, 0, 0, 1, 0, 0, 0, 0, 4, 9, 1, 0, 0, 2, 0, 1, 0, 1, 0, 0, 0, 1, 0, 1, 0, 1, 0, 1, 0, 0]\n"
     ]
    }
   ],
   "source": [
    "print(x.tolist())\n",
    "print(X[2].tolist())"
   ]
  },
  {
   "cell_type": "code",
   "execution_count": 59,
   "metadata": {
    "scrolled": true
   },
   "outputs": [
    {
     "ename": "ValueError",
     "evalue": "operands could not be broadcast together with shapes (4769,) (4943,) ",
     "output_type": "error",
     "traceback": [
      "\u001b[1;31m---------------------------------------------------------------------------\u001b[0m",
      "\u001b[1;31mValueError\u001b[0m                                Traceback (most recent call last)",
      "\u001b[1;32m<ipython-input-59-957cdaa615c5>\u001b[0m in \u001b[0;36m<module>\u001b[1;34m\u001b[0m\n\u001b[1;32m----> 1\u001b[1;33m print(\"tweet - ML\\t\", euclidian_distance(x[0], X[0]), \"\\n\"\n\u001b[0m\u001b[0;32m      2\u001b[0m       \u001b[1;34m\"tweet - AI\\t\"\u001b[0m\u001b[1;33m,\u001b[0m \u001b[0meuclidian_distance\u001b[0m\u001b[1;33m(\u001b[0m\u001b[0mx\u001b[0m\u001b[1;33m[\u001b[0m\u001b[1;36m0\u001b[0m\u001b[1;33m]\u001b[0m\u001b[1;33m,\u001b[0m \u001b[0mX\u001b[0m\u001b[1;33m[\u001b[0m\u001b[1;36m1\u001b[0m\u001b[1;33m]\u001b[0m\u001b[1;33m)\u001b[0m\u001b[1;33m,\u001b[0m \u001b[1;34m\"\\n\"\u001b[0m\u001b[1;33m\u001b[0m\u001b[1;33m\u001b[0m\u001b[0m\n\u001b[0;32m      3\u001b[0m       \"tweet - BB\\t\", euclidian_distance(x[0], X[2]))\n",
      "\u001b[1;32m<ipython-input-6-eb711698154d>\u001b[0m in \u001b[0;36meuclidian_distance\u001b[1;34m(x, y)\u001b[0m\n\u001b[0;32m      1\u001b[0m \u001b[1;31m# Define a function to calculate the Euclidian distance\u001b[0m\u001b[1;33m\u001b[0m\u001b[1;33m\u001b[0m\u001b[1;33m\u001b[0m\u001b[0m\n\u001b[0;32m      2\u001b[0m \u001b[1;32mdef\u001b[0m \u001b[0meuclidian_distance\u001b[0m\u001b[1;33m(\u001b[0m\u001b[0mx\u001b[0m\u001b[1;33m,\u001b[0m\u001b[0my\u001b[0m\u001b[1;33m)\u001b[0m\u001b[1;33m:\u001b[0m\u001b[1;33m\u001b[0m\u001b[1;33m\u001b[0m\u001b[0m\n\u001b[1;32m----> 3\u001b[1;33m     \u001b[1;32mreturn\u001b[0m \u001b[0mnp\u001b[0m\u001b[1;33m.\u001b[0m\u001b[0msqrt\u001b[0m\u001b[1;33m(\u001b[0m\u001b[0mnp\u001b[0m\u001b[1;33m.\u001b[0m\u001b[0msum\u001b[0m\u001b[1;33m(\u001b[0m\u001b[1;33m(\u001b[0m\u001b[0mx\u001b[0m\u001b[1;33m-\u001b[0m\u001b[0my\u001b[0m\u001b[1;33m)\u001b[0m\u001b[1;33m**\u001b[0m\u001b[1;36m2\u001b[0m\u001b[1;33m)\u001b[0m\u001b[1;33m)\u001b[0m\u001b[1;33m\u001b[0m\u001b[1;33m\u001b[0m\u001b[0m\n\u001b[0m",
      "\u001b[1;31mValueError\u001b[0m: operands could not be broadcast together with shapes (4769,) (4943,) "
     ]
    }
   ],
   "source": [
    "print(\"tweet - ML\\t\", euclidian_distance(x[0], X[0]), \"\\n\"\n",
    "      \"tweet - AI\\t\", euclidian_distance(x[0], X[1]), \"\\n\"\n",
    "      \"tweet - BB\\t\", euclidian_distance(x[0], X[2]))"
   ]
  },
  {
   "cell_type": "markdown",
   "metadata": {},
   "source": [
    "The openAI tweet eucilidian distance similarity follows the similirty in page legth. With Garfield being the most similar and shortest and AI being the least similar and longest"
   ]
  },
  {
   "cell_type": "code",
   "execution_count": 41,
   "metadata": {},
   "outputs": [
    {
     "name": "stdout",
     "output_type": "stream",
     "text": [
      "tweet - ML\t 0.09105601883854417 \n",
      "tweet - AI\t 0.011651668565806832 \n",
      "tweet - BB\t 0.01590582723055633\n"
     ]
    }
   ],
   "source": [
    "print(\"tweet - ML\\t\", cosine_similarity(x[0], X[0]), \"\\n\"\n",
    "      \"tweet - AI\\t\", cosine_similarity(x[0], X[1]), \"\\n\"\n",
    "      \"tweet - BB\\t\", cosine_similarity(x[0], X[2]))"
   ]
  },
  {
   "cell_type": "markdown",
   "metadata": {},
   "source": [
    "Finally, the cosine similarity matches what we would expect the OpenAI tweet to match."
   ]
  },
  {
   "cell_type": "markdown",
   "metadata": {},
   "source": [
    "# Analysis/Summary\n",
    "Once you have completed going through the notebook, write a short analysis and summary of what we did, the results, and the significance."
   ]
  },
  {
   "cell_type": "code",
   "execution_count": null,
   "metadata": {},
   "outputs": [],
   "source": []
  }
 ],
 "metadata": {
  "kernelspec": {
   "display_name": "Python 3",
   "language": "python",
   "name": "python3"
  },
  "language_info": {
   "codemirror_mode": {
    "name": "ipython",
    "version": 3
   },
   "file_extension": ".py",
   "mimetype": "text/x-python",
   "name": "python",
   "nbconvert_exporter": "python",
   "pygments_lexer": "ipython3",
   "version": "3.9.4"
  }
 },
 "nbformat": 4,
 "nbformat_minor": 2
}
